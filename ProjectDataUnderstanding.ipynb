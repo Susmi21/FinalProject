{
  "cells": [
    {
      "cell_type": "markdown",
      "id": "bc43f355-721e-45bb-9fa0-81a1382b3dd2",
      "metadata": {
        "id": "bc43f355-721e-45bb-9fa0-81a1382b3dd2"
      },
      "source": [
        "# Lithium Ion Battery capacity estimation using Autoencoders and Ensemble Learning"
      ]
    },
    {
      "cell_type": "markdown",
      "id": "87860a08-6bed-439a-bacd-d6be54048796",
      "metadata": {
        "id": "87860a08-6bed-439a-bacd-d6be54048796"
      },
      "source": [
        "##### Author: Susmitha Ganesh"
      ]
    },
    {
      "cell_type": "markdown",
      "id": "f7ea24c1-d91f-4690-b32b-11dd2cbdeff0",
      "metadata": {
        "id": "f7ea24c1-d91f-4690-b32b-11dd2cbdeff0"
      },
      "source": [
        "#### Understanding data from metadata.csv ([link](https://www.kaggle.com/datasets/patrickfleith/nasa-battery-dataset))"
      ]
    },
    {
      "cell_type": "markdown",
      "id": "e9b6f79d-68af-40a0-b3bf-db7a30a1357c",
      "metadata": {
        "id": "e9b6f79d-68af-40a0-b3bf-db7a30a1357c"
      },
      "source": [
        "Data Source: Kaggle Battery Dataset"
      ]
    },
    {
      "cell_type": "code",
      "execution_count": null,
      "id": "33a80ad3-aabd-4230-93fd-ecf73785c1db",
      "metadata": {
        "id": "33a80ad3-aabd-4230-93fd-ecf73785c1db",
        "outputId": "8434506c-092d-4dd5-c6eb-28260526dcba"
      },
      "outputs": [
        {
          "data": {
            "text/html": [
              "<div>\n",
              "<style scoped>\n",
              "    .dataframe tbody tr th:only-of-type {\n",
              "        vertical-align: middle;\n",
              "    }\n",
              "\n",
              "    .dataframe tbody tr th {\n",
              "        vertical-align: top;\n",
              "    }\n",
              "\n",
              "    .dataframe thead th {\n",
              "        text-align: right;\n",
              "    }\n",
              "</style>\n",
              "<table border=\"1\" class=\"dataframe\">\n",
              "  <thead>\n",
              "    <tr style=\"text-align: right;\">\n",
              "      <th></th>\n",
              "      <th>type</th>\n",
              "      <th>start_time</th>\n",
              "      <th>ambient_temperature</th>\n",
              "      <th>battery_id</th>\n",
              "      <th>test_id</th>\n",
              "      <th>uid</th>\n",
              "      <th>filename</th>\n",
              "      <th>Capacity</th>\n",
              "      <th>Re</th>\n",
              "      <th>Rct</th>\n",
              "    </tr>\n",
              "  </thead>\n",
              "  <tbody>\n",
              "    <tr>\n",
              "      <th>0</th>\n",
              "      <td>discharge</td>\n",
              "      <td>[2010.       7.      21.      15.       0.    ...</td>\n",
              "      <td>4</td>\n",
              "      <td>B0047</td>\n",
              "      <td>0</td>\n",
              "      <td>1</td>\n",
              "      <td>00001.csv</td>\n",
              "      <td>1.6743047446975208</td>\n",
              "      <td>NaN</td>\n",
              "      <td>NaN</td>\n",
              "    </tr>\n",
              "    <tr>\n",
              "      <th>1</th>\n",
              "      <td>impedance</td>\n",
              "      <td>[2010.       7.      21.      16.      53.    ...</td>\n",
              "      <td>24</td>\n",
              "      <td>B0047</td>\n",
              "      <td>1</td>\n",
              "      <td>2</td>\n",
              "      <td>00002.csv</td>\n",
              "      <td>NaN</td>\n",
              "      <td>0.05605783343888099</td>\n",
              "      <td>0.20097016584458333</td>\n",
              "    </tr>\n",
              "    <tr>\n",
              "      <th>2</th>\n",
              "      <td>charge</td>\n",
              "      <td>[2010.       7.      21.      17.      25.    ...</td>\n",
              "      <td>4</td>\n",
              "      <td>B0047</td>\n",
              "      <td>2</td>\n",
              "      <td>3</td>\n",
              "      <td>00003.csv</td>\n",
              "      <td>NaN</td>\n",
              "      <td>NaN</td>\n",
              "      <td>NaN</td>\n",
              "    </tr>\n",
              "    <tr>\n",
              "      <th>3</th>\n",
              "      <td>impedance</td>\n",
              "      <td>[2010    7   21   20   31    5]</td>\n",
              "      <td>24</td>\n",
              "      <td>B0047</td>\n",
              "      <td>3</td>\n",
              "      <td>4</td>\n",
              "      <td>00004.csv</td>\n",
              "      <td>NaN</td>\n",
              "      <td>0.05319185850921101</td>\n",
              "      <td>0.16473399914864734</td>\n",
              "    </tr>\n",
              "    <tr>\n",
              "      <th>4</th>\n",
              "      <td>discharge</td>\n",
              "      <td>[2.0100e+03 7.0000e+00 2.1000e+01 2.1000e+01 2...</td>\n",
              "      <td>4</td>\n",
              "      <td>B0047</td>\n",
              "      <td>4</td>\n",
              "      <td>5</td>\n",
              "      <td>00005.csv</td>\n",
              "      <td>1.5243662105099023</td>\n",
              "      <td>NaN</td>\n",
              "      <td>NaN</td>\n",
              "    </tr>\n",
              "  </tbody>\n",
              "</table>\n",
              "</div>"
            ],
            "text/plain": [
              "        type                                         start_time  \\\n",
              "0  discharge  [2010.       7.      21.      15.       0.    ...   \n",
              "1  impedance  [2010.       7.      21.      16.      53.    ...   \n",
              "2     charge  [2010.       7.      21.      17.      25.    ...   \n",
              "3  impedance                    [2010    7   21   20   31    5]   \n",
              "4  discharge  [2.0100e+03 7.0000e+00 2.1000e+01 2.1000e+01 2...   \n",
              "\n",
              "   ambient_temperature battery_id  test_id  uid   filename  \\\n",
              "0                    4      B0047        0    1  00001.csv   \n",
              "1                   24      B0047        1    2  00002.csv   \n",
              "2                    4      B0047        2    3  00003.csv   \n",
              "3                   24      B0047        3    4  00004.csv   \n",
              "4                    4      B0047        4    5  00005.csv   \n",
              "\n",
              "             Capacity                   Re                  Rct  \n",
              "0  1.6743047446975208                  NaN                  NaN  \n",
              "1                 NaN  0.05605783343888099  0.20097016584458333  \n",
              "2                 NaN                  NaN                  NaN  \n",
              "3                 NaN  0.05319185850921101  0.16473399914864734  \n",
              "4  1.5243662105099023                  NaN                  NaN  "
            ]
          },
          "execution_count": 2,
          "metadata": {},
          "output_type": "execute_result"
        }
      ],
      "source": [
        "# Read metadata.csv file from folder location on computer\n",
        "# And display the top 5 rows\n",
        "\n",
        "import pandas as pd\n",
        "df = pd.read_csv('/Users/susmithaganesh/Desktop/Project/Data/Data_on_drive/metadata.csv');\n",
        "df.head(5)"
      ]
    },
    {
      "cell_type": "markdown",
      "id": "07a8c9c6-0152-4158-b89a-7af4623b4850",
      "metadata": {
        "id": "07a8c9c6-0152-4158-b89a-7af4623b4850"
      },
      "source": [
        "Charge cycle, discharge cycle and impedence test are performed on multiple 18650 batteries. The capcaity is determined in the discharge cycle. The tests seem to be performed at vairious temperatures. As a result of imperdence test (EIS test) internal resistance (Re) and charge transfer resistance (Rct) are determined.\n",
        "\n",
        "\n",
        "NOTE: The paper focuses on capacity estimation. Hence Re and Rct shall be ignored for now.."
      ]
    },
    {
      "cell_type": "code",
      "execution_count": null,
      "id": "6905f97f-5ed1-430e-8eb1-e277c13a84d0",
      "metadata": {
        "id": "6905f97f-5ed1-430e-8eb1-e277c13a84d0",
        "outputId": "fa490520-0601-435d-cb59-9ce96debdc00"
      },
      "outputs": [
        {
          "name": "stdout",
          "output_type": "stream",
          "text": [
            "<class 'pandas.core.frame.DataFrame'>\n",
            "RangeIndex: 7565 entries, 0 to 7564\n",
            "Data columns (total 10 columns):\n",
            " #   Column               Non-Null Count  Dtype \n",
            "---  ------               --------------  ----- \n",
            " 0   type                 7565 non-null   object\n",
            " 1   start_time           7565 non-null   object\n",
            " 2   ambient_temperature  7565 non-null   int64 \n",
            " 3   battery_id           7565 non-null   object\n",
            " 4   test_id              7565 non-null   int64 \n",
            " 5   uid                  7565 non-null   int64 \n",
            " 6   filename             7565 non-null   object\n",
            " 7   Capacity             2794 non-null   object\n",
            " 8   Re                   1956 non-null   object\n",
            " 9   Rct                  1956 non-null   object\n",
            "dtypes: int64(3), object(7)\n",
            "memory usage: 591.1+ KB\n"
          ]
        }
      ],
      "source": [
        "df.info()"
      ]
    },
    {
      "cell_type": "markdown",
      "id": "9a09b1ff-02ea-4c67-9025-dccd5b9ad0d1",
      "metadata": {
        "id": "9a09b1ff-02ea-4c67-9025-dccd5b9ad0d1"
      },
      "source": [
        "Capacity, Re and Rct have some null values this is because the capacity is tested after every complete charge cycle at the start of a discharge cycle. and Re and Rct are determined in impedence tests (EIS tests) only.  "
      ]
    },
    {
      "cell_type": "code",
      "execution_count": null,
      "id": "bcff1919-b0d3-43c2-9135-caa85509f8d9",
      "metadata": {
        "id": "bcff1919-b0d3-43c2-9135-caa85509f8d9",
        "outputId": "f4a2b977-d4a5-4793-81d1-d3eff07667e5"
      },
      "outputs": [
        {
          "data": {
            "text/plain": [
              "battery_id\n",
              "B0007    616\n",
              "B0005    616\n",
              "B0006    616\n",
              "B0033    486\n",
              "B0036    486\n",
              "B0034    486\n",
              "B0018    319\n",
              "B0044    275\n",
              "B0043    275\n",
              "B0042    275\n",
              "B0054    253\n",
              "B0056    252\n",
              "B0055    252\n",
              "B0047    184\n",
              "B0048    184\n",
              "B0045    184\n",
              "B0046    184\n",
              "B0041    163\n",
              "B0053    137\n",
              "B0040    122\n",
              "B0039    122\n",
              "B0038    122\n",
              "B0030     97\n",
              "B0029     97\n",
              "B0031     97\n",
              "B0032     97\n",
              "B0026     80\n",
              "B0025     80\n",
              "B0028     80\n",
              "B0027     80\n",
              "B0049     62\n",
              "B0052     62\n",
              "B0051     62\n",
              "B0050     62\n",
              "Name: count, dtype: int64"
            ]
          },
          "execution_count": 4,
          "metadata": {},
          "output_type": "execute_result"
        }
      ],
      "source": [
        "Num_batteries = df['battery_id'].value_counts()\n",
        "Num_batteries"
      ]
    },
    {
      "cell_type": "markdown",
      "id": "6024c46d-094f-4c00-997d-6a0f20bebb70",
      "metadata": {
        "id": "6024c46d-094f-4c00-997d-6a0f20bebb70"
      },
      "source": [
        "There are 34, 18650 batteries on which the tests are performed and there are individual files for each cycle test."
      ]
    },
    {
      "cell_type": "markdown",
      "id": "29e47e37-f17f-401e-a181-17000bec8e58",
      "metadata": {
        "id": "29e47e37-f17f-401e-a181-17000bec8e58"
      },
      "source": [
        "<b> Determine the temperatures at which tests were performed on vairous battery packs  </b>"
      ]
    },
    {
      "cell_type": "code",
      "execution_count": null,
      "id": "6bde3a38-14d2-4337-b0f9-1cc43619c2d3",
      "metadata": {
        "id": "6bde3a38-14d2-4337-b0f9-1cc43619c2d3",
        "outputId": "a2a77be3-1d5d-420a-e55f-077f4a688bca"
      },
      "outputs": [
        {
          "data": {
            "text/html": [
              "<div>\n",
              "<style scoped>\n",
              "    .dataframe tbody tr th:only-of-type {\n",
              "        vertical-align: middle;\n",
              "    }\n",
              "\n",
              "    .dataframe tbody tr th {\n",
              "        vertical-align: top;\n",
              "    }\n",
              "\n",
              "    .dataframe thead th {\n",
              "        text-align: right;\n",
              "    }\n",
              "</style>\n",
              "<table border=\"1\" class=\"dataframe\">\n",
              "  <thead>\n",
              "    <tr style=\"text-align: right;\">\n",
              "      <th></th>\n",
              "      <th>type</th>\n",
              "      <th>start_time</th>\n",
              "      <th>ambient_temperature</th>\n",
              "      <th>battery_id</th>\n",
              "      <th>test_id</th>\n",
              "      <th>uid</th>\n",
              "      <th>filename</th>\n",
              "      <th>Capacity</th>\n",
              "      <th>Re</th>\n",
              "      <th>Rct</th>\n",
              "    </tr>\n",
              "  </thead>\n",
              "  <tbody>\n",
              "    <tr>\n",
              "      <th>6352</th>\n",
              "      <td>charge</td>\n",
              "      <td>[2008.      7.      7.     12.     26.     45.75]</td>\n",
              "      <td>24</td>\n",
              "      <td>B0018</td>\n",
              "      <td>0</td>\n",
              "      <td>6353</td>\n",
              "      <td>06353.csv</td>\n",
              "      <td>NaN</td>\n",
              "      <td>NaN</td>\n",
              "      <td>NaN</td>\n",
              "    </tr>\n",
              "    <tr>\n",
              "      <th>6353</th>\n",
              "      <td>impedance</td>\n",
              "      <td>[2008.       7.       7.      14.      43.    ...</td>\n",
              "      <td>24</td>\n",
              "      <td>B0018</td>\n",
              "      <td>1</td>\n",
              "      <td>6354</td>\n",
              "      <td>06354.csv</td>\n",
              "      <td>NaN</td>\n",
              "      <td>0.06515815158455215</td>\n",
              "      <td>0.09555369570022001</td>\n",
              "    </tr>\n",
              "    <tr>\n",
              "      <th>6354</th>\n",
              "      <td>discharge</td>\n",
              "      <td>[2008.       7.       7.      15.      15.    ...</td>\n",
              "      <td>24</td>\n",
              "      <td>B0018</td>\n",
              "      <td>2</td>\n",
              "      <td>6355</td>\n",
              "      <td>06355.csv</td>\n",
              "      <td>1.8550045207910817</td>\n",
              "      <td>NaN</td>\n",
              "      <td>NaN</td>\n",
              "    </tr>\n",
              "  </tbody>\n",
              "</table>\n",
              "</div>"
            ],
            "text/plain": [
              "           type                                         start_time  \\\n",
              "6352     charge  [2008.      7.      7.     12.     26.     45.75]   \n",
              "6353  impedance  [2008.       7.       7.      14.      43.    ...   \n",
              "6354  discharge  [2008.       7.       7.      15.      15.    ...   \n",
              "\n",
              "      ambient_temperature battery_id  test_id   uid   filename  \\\n",
              "6352                   24      B0018        0  6353  06353.csv   \n",
              "6353                   24      B0018        1  6354  06354.csv   \n",
              "6354                   24      B0018        2  6355  06355.csv   \n",
              "\n",
              "                Capacity                   Re                  Rct  \n",
              "6352                 NaN                  NaN                  NaN  \n",
              "6353                 NaN  0.06515815158455215  0.09555369570022001  \n",
              "6354  1.8550045207910817                  NaN                  NaN  "
            ]
          },
          "execution_count": 5,
          "metadata": {},
          "output_type": "execute_result"
        }
      ],
      "source": [
        "B0018_df = df[df['battery_id'] == 'B0018']\n",
        "B0018_df.head(3)"
      ]
    },
    {
      "cell_type": "code",
      "execution_count": null,
      "id": "94ef19dd-9c9b-420d-8c7b-aef5e7543b34",
      "metadata": {
        "id": "94ef19dd-9c9b-420d-8c7b-aef5e7543b34",
        "outputId": "d77df02a-1779-4b27-b605-87a122d82a04"
      },
      "outputs": [
        {
          "data": {
            "text/html": [
              "<div>\n",
              "<style scoped>\n",
              "    .dataframe tbody tr th:only-of-type {\n",
              "        vertical-align: middle;\n",
              "    }\n",
              "\n",
              "    .dataframe tbody tr th {\n",
              "        vertical-align: top;\n",
              "    }\n",
              "\n",
              "    .dataframe thead th {\n",
              "        text-align: right;\n",
              "    }\n",
              "</style>\n",
              "<table border=\"1\" class=\"dataframe\">\n",
              "  <thead>\n",
              "    <tr style=\"text-align: right;\">\n",
              "      <th></th>\n",
              "      <th>type</th>\n",
              "      <th>start_time</th>\n",
              "      <th>ambient_temperature</th>\n",
              "      <th>battery_id</th>\n",
              "      <th>test_id</th>\n",
              "      <th>uid</th>\n",
              "      <th>filename</th>\n",
              "      <th>Capacity</th>\n",
              "      <th>Re</th>\n",
              "      <th>Rct</th>\n",
              "    </tr>\n",
              "  </thead>\n",
              "  <tbody>\n",
              "    <tr>\n",
              "      <th>5120</th>\n",
              "      <td>charge</td>\n",
              "      <td>[2.0080e+03 4.0000e+00 2.0000e+00 1.3000e+01 8...</td>\n",
              "      <td>24</td>\n",
              "      <td>B0005</td>\n",
              "      <td>0</td>\n",
              "      <td>5121</td>\n",
              "      <td>05121.csv</td>\n",
              "      <td>NaN</td>\n",
              "      <td>NaN</td>\n",
              "      <td>NaN</td>\n",
              "    </tr>\n",
              "    <tr>\n",
              "      <th>5121</th>\n",
              "      <td>discharge</td>\n",
              "      <td>[2.0080e+03 4.0000e+00 2.0000e+00 1.5000e+01 2...</td>\n",
              "      <td>24</td>\n",
              "      <td>B0005</td>\n",
              "      <td>1</td>\n",
              "      <td>5122</td>\n",
              "      <td>05122.csv</td>\n",
              "      <td>1.8564874208181574</td>\n",
              "      <td>NaN</td>\n",
              "      <td>NaN</td>\n",
              "    </tr>\n",
              "    <tr>\n",
              "      <th>5122</th>\n",
              "      <td>charge</td>\n",
              "      <td>[2.0080e+03 4.0000e+00 2.0000e+00 1.6000e+01 3...</td>\n",
              "      <td>24</td>\n",
              "      <td>B0005</td>\n",
              "      <td>2</td>\n",
              "      <td>5123</td>\n",
              "      <td>05123.csv</td>\n",
              "      <td>NaN</td>\n",
              "      <td>NaN</td>\n",
              "      <td>NaN</td>\n",
              "    </tr>\n",
              "  </tbody>\n",
              "</table>\n",
              "</div>"
            ],
            "text/plain": [
              "           type                                         start_time  \\\n",
              "5120     charge  [2.0080e+03 4.0000e+00 2.0000e+00 1.3000e+01 8...   \n",
              "5121  discharge  [2.0080e+03 4.0000e+00 2.0000e+00 1.5000e+01 2...   \n",
              "5122     charge  [2.0080e+03 4.0000e+00 2.0000e+00 1.6000e+01 3...   \n",
              "\n",
              "      ambient_temperature battery_id  test_id   uid   filename  \\\n",
              "5120                   24      B0005        0  5121  05121.csv   \n",
              "5121                   24      B0005        1  5122  05122.csv   \n",
              "5122                   24      B0005        2  5123  05123.csv   \n",
              "\n",
              "                Capacity   Re  Rct  \n",
              "5120                 NaN  NaN  NaN  \n",
              "5121  1.8564874208181574  NaN  NaN  \n",
              "5122                 NaN  NaN  NaN  "
            ]
          },
          "execution_count": 6,
          "metadata": {},
          "output_type": "execute_result"
        }
      ],
      "source": [
        "B0005_df = df[df['battery_id'] == 'B0005']\n",
        "B0005_df.head(3)"
      ]
    },
    {
      "cell_type": "code",
      "execution_count": null,
      "id": "9e4e407c-c92a-441c-878a-78428ed10694",
      "metadata": {
        "id": "9e4e407c-c92a-441c-878a-78428ed10694",
        "outputId": "d3956f87-5093-4c3e-ca1d-a6d803c37ef7"
      },
      "outputs": [
        {
          "data": {
            "text/plain": [
              "ambient_temperature\n",
              "24    616\n",
              "Name: count, dtype: int64"
            ]
          },
          "execution_count": 7,
          "metadata": {},
          "output_type": "execute_result"
        }
      ],
      "source": [
        "B0005_TempValues = B0005_df['ambient_temperature'].value_counts()\n",
        "B0005_TempValues"
      ]
    },
    {
      "cell_type": "code",
      "execution_count": null,
      "id": "6f08ef92-a99c-439b-b470-c662a0a57d83",
      "metadata": {
        "id": "6f08ef92-a99c-439b-b470-c662a0a57d83",
        "outputId": "90225c2d-ffa7-4d51-cffd-4917090c4379"
      },
      "outputs": [
        {
          "data": {
            "text/html": [
              "<div>\n",
              "<style scoped>\n",
              "    .dataframe tbody tr th:only-of-type {\n",
              "        vertical-align: middle;\n",
              "    }\n",
              "\n",
              "    .dataframe tbody tr th {\n",
              "        vertical-align: top;\n",
              "    }\n",
              "\n",
              "    .dataframe thead th {\n",
              "        text-align: right;\n",
              "    }\n",
              "</style>\n",
              "<table border=\"1\" class=\"dataframe\">\n",
              "  <thead>\n",
              "    <tr style=\"text-align: right;\">\n",
              "      <th></th>\n",
              "      <th>type</th>\n",
              "      <th>start_time</th>\n",
              "      <th>ambient_temperature</th>\n",
              "      <th>battery_id</th>\n",
              "      <th>test_id</th>\n",
              "      <th>uid</th>\n",
              "      <th>filename</th>\n",
              "      <th>Capacity</th>\n",
              "      <th>Re</th>\n",
              "      <th>Rct</th>\n",
              "    </tr>\n",
              "  </thead>\n",
              "  <tbody>\n",
              "    <tr>\n",
              "      <th>4504</th>\n",
              "      <td>charge</td>\n",
              "      <td>[2.0080e+03 4.0000e+00 2.0000e+00 1.3000e+01 8...</td>\n",
              "      <td>24</td>\n",
              "      <td>B0006</td>\n",
              "      <td>0</td>\n",
              "      <td>4505</td>\n",
              "      <td>04505.csv</td>\n",
              "      <td>NaN</td>\n",
              "      <td>NaN</td>\n",
              "      <td>NaN</td>\n",
              "    </tr>\n",
              "    <tr>\n",
              "      <th>4505</th>\n",
              "      <td>discharge</td>\n",
              "      <td>[2.0080e+03 4.0000e+00 2.0000e+00 1.5000e+01 2...</td>\n",
              "      <td>24</td>\n",
              "      <td>B0006</td>\n",
              "      <td>1</td>\n",
              "      <td>4506</td>\n",
              "      <td>04506.csv</td>\n",
              "      <td>2.035337591005598</td>\n",
              "      <td>NaN</td>\n",
              "      <td>NaN</td>\n",
              "    </tr>\n",
              "    <tr>\n",
              "      <th>4506</th>\n",
              "      <td>charge</td>\n",
              "      <td>[2.0080e+03 4.0000e+00 2.0000e+00 1.6000e+01 3...</td>\n",
              "      <td>24</td>\n",
              "      <td>B0006</td>\n",
              "      <td>2</td>\n",
              "      <td>4507</td>\n",
              "      <td>04507.csv</td>\n",
              "      <td>NaN</td>\n",
              "      <td>NaN</td>\n",
              "      <td>NaN</td>\n",
              "    </tr>\n",
              "  </tbody>\n",
              "</table>\n",
              "</div>"
            ],
            "text/plain": [
              "           type                                         start_time  \\\n",
              "4504     charge  [2.0080e+03 4.0000e+00 2.0000e+00 1.3000e+01 8...   \n",
              "4505  discharge  [2.0080e+03 4.0000e+00 2.0000e+00 1.5000e+01 2...   \n",
              "4506     charge  [2.0080e+03 4.0000e+00 2.0000e+00 1.6000e+01 3...   \n",
              "\n",
              "      ambient_temperature battery_id  test_id   uid   filename  \\\n",
              "4504                   24      B0006        0  4505  04505.csv   \n",
              "4505                   24      B0006        1  4506  04506.csv   \n",
              "4506                   24      B0006        2  4507  04507.csv   \n",
              "\n",
              "               Capacity   Re  Rct  \n",
              "4504                NaN  NaN  NaN  \n",
              "4505  2.035337591005598  NaN  NaN  \n",
              "4506                NaN  NaN  NaN  "
            ]
          },
          "execution_count": 8,
          "metadata": {},
          "output_type": "execute_result"
        }
      ],
      "source": [
        "B0006_df = df[df['battery_id'] == 'B0006']\n",
        "B0006_df.head(3)"
      ]
    },
    {
      "cell_type": "code",
      "execution_count": null,
      "id": "e0379315-5870-4776-a48b-3db060f7c1f0",
      "metadata": {
        "id": "e0379315-5870-4776-a48b-3db060f7c1f0",
        "outputId": "0cca73ed-e577-40d8-d422-f60b24409d77"
      },
      "outputs": [
        {
          "data": {
            "text/plain": [
              "ambient_temperature\n",
              "24    616\n",
              "Name: count, dtype: int64"
            ]
          },
          "execution_count": 9,
          "metadata": {},
          "output_type": "execute_result"
        }
      ],
      "source": [
        "B0006_TempValues = B0006_df['ambient_temperature'].value_counts()\n",
        "B0006_TempValues"
      ]
    },
    {
      "cell_type": "code",
      "execution_count": null,
      "id": "5136f2fe-e115-45b2-8427-d3548c4352ff",
      "metadata": {
        "id": "5136f2fe-e115-45b2-8427-d3548c4352ff",
        "outputId": "88c05fc5-3fa6-4ab0-a00d-555bc637d21c"
      },
      "outputs": [
        {
          "data": {
            "text/html": [
              "<div>\n",
              "<style scoped>\n",
              "    .dataframe tbody tr th:only-of-type {\n",
              "        vertical-align: middle;\n",
              "    }\n",
              "\n",
              "    .dataframe tbody tr th {\n",
              "        vertical-align: top;\n",
              "    }\n",
              "\n",
              "    .dataframe thead th {\n",
              "        text-align: right;\n",
              "    }\n",
              "</style>\n",
              "<table border=\"1\" class=\"dataframe\">\n",
              "  <thead>\n",
              "    <tr style=\"text-align: right;\">\n",
              "      <th></th>\n",
              "      <th>type</th>\n",
              "      <th>start_time</th>\n",
              "      <th>ambient_temperature</th>\n",
              "      <th>battery_id</th>\n",
              "      <th>test_id</th>\n",
              "      <th>uid</th>\n",
              "      <th>filename</th>\n",
              "      <th>Capacity</th>\n",
              "      <th>Re</th>\n",
              "      <th>Rct</th>\n",
              "    </tr>\n",
              "  </thead>\n",
              "  <tbody>\n",
              "    <tr>\n",
              "      <th>5736</th>\n",
              "      <td>charge</td>\n",
              "      <td>[2.0080e+03 4.0000e+00 2.0000e+00 1.3000e+01 8...</td>\n",
              "      <td>24</td>\n",
              "      <td>B0007</td>\n",
              "      <td>0</td>\n",
              "      <td>5737</td>\n",
              "      <td>05737.csv</td>\n",
              "      <td>NaN</td>\n",
              "      <td>NaN</td>\n",
              "      <td>NaN</td>\n",
              "    </tr>\n",
              "    <tr>\n",
              "      <th>5737</th>\n",
              "      <td>discharge</td>\n",
              "      <td>[2.0080e+03 4.0000e+00 2.0000e+00 1.5000e+01 2...</td>\n",
              "      <td>24</td>\n",
              "      <td>B0007</td>\n",
              "      <td>1</td>\n",
              "      <td>5738</td>\n",
              "      <td>05738.csv</td>\n",
              "      <td>1.89105229539079</td>\n",
              "      <td>NaN</td>\n",
              "      <td>NaN</td>\n",
              "    </tr>\n",
              "    <tr>\n",
              "      <th>5738</th>\n",
              "      <td>charge</td>\n",
              "      <td>[2.0080e+03 4.0000e+00 2.0000e+00 1.6000e+01 3...</td>\n",
              "      <td>24</td>\n",
              "      <td>B0007</td>\n",
              "      <td>2</td>\n",
              "      <td>5739</td>\n",
              "      <td>05739.csv</td>\n",
              "      <td>NaN</td>\n",
              "      <td>NaN</td>\n",
              "      <td>NaN</td>\n",
              "    </tr>\n",
              "  </tbody>\n",
              "</table>\n",
              "</div>"
            ],
            "text/plain": [
              "           type                                         start_time  \\\n",
              "5736     charge  [2.0080e+03 4.0000e+00 2.0000e+00 1.3000e+01 8...   \n",
              "5737  discharge  [2.0080e+03 4.0000e+00 2.0000e+00 1.5000e+01 2...   \n",
              "5738     charge  [2.0080e+03 4.0000e+00 2.0000e+00 1.6000e+01 3...   \n",
              "\n",
              "      ambient_temperature battery_id  test_id   uid   filename  \\\n",
              "5736                   24      B0007        0  5737  05737.csv   \n",
              "5737                   24      B0007        1  5738  05738.csv   \n",
              "5738                   24      B0007        2  5739  05739.csv   \n",
              "\n",
              "              Capacity   Re  Rct  \n",
              "5736               NaN  NaN  NaN  \n",
              "5737  1.89105229539079  NaN  NaN  \n",
              "5738               NaN  NaN  NaN  "
            ]
          },
          "execution_count": 10,
          "metadata": {},
          "output_type": "execute_result"
        }
      ],
      "source": [
        "B0007_df = df[df['battery_id'] == 'B0007']\n",
        "B0007_df.head(3)"
      ]
    },
    {
      "cell_type": "code",
      "execution_count": null,
      "id": "0c064760-be63-44b8-b8bb-9a2bf3d6c9bb",
      "metadata": {
        "id": "0c064760-be63-44b8-b8bb-9a2bf3d6c9bb",
        "outputId": "91139f0b-38ae-4c0f-c295-17a10eaa876a"
      },
      "outputs": [
        {
          "data": {
            "text/plain": [
              "ambient_temperature\n",
              "24    616\n",
              "Name: count, dtype: int64"
            ]
          },
          "execution_count": 11,
          "metadata": {},
          "output_type": "execute_result"
        }
      ],
      "source": [
        "B0007_TempValues = B0007_df['ambient_temperature'].value_counts()\n",
        "B0007_TempValues"
      ]
    },
    {
      "cell_type": "code",
      "execution_count": null,
      "id": "75b5b58a-398c-44e3-8d38-8f7a4c695c22",
      "metadata": {
        "id": "75b5b58a-398c-44e3-8d38-8f7a4c695c22",
        "outputId": "5f6183cc-497a-4393-8d57-6e706add8a50"
      },
      "outputs": [
        {
          "data": {
            "text/html": [
              "<div>\n",
              "<style scoped>\n",
              "    .dataframe tbody tr th:only-of-type {\n",
              "        vertical-align: middle;\n",
              "    }\n",
              "\n",
              "    .dataframe tbody tr th {\n",
              "        vertical-align: top;\n",
              "    }\n",
              "\n",
              "    .dataframe thead th {\n",
              "        text-align: right;\n",
              "    }\n",
              "</style>\n",
              "<table border=\"1\" class=\"dataframe\">\n",
              "  <thead>\n",
              "    <tr style=\"text-align: right;\">\n",
              "      <th></th>\n",
              "      <th>type</th>\n",
              "      <th>start_time</th>\n",
              "      <th>ambient_temperature</th>\n",
              "      <th>battery_id</th>\n",
              "      <th>test_id</th>\n",
              "      <th>uid</th>\n",
              "      <th>filename</th>\n",
              "      <th>Capacity</th>\n",
              "      <th>Re</th>\n",
              "      <th>Rct</th>\n",
              "    </tr>\n",
              "  </thead>\n",
              "  <tbody>\n",
              "    <tr>\n",
              "      <th>0</th>\n",
              "      <td>discharge</td>\n",
              "      <td>[2010.       7.      21.      15.       0.    ...</td>\n",
              "      <td>4</td>\n",
              "      <td>B0047</td>\n",
              "      <td>0</td>\n",
              "      <td>1</td>\n",
              "      <td>00001.csv</td>\n",
              "      <td>1.6743047446975208</td>\n",
              "      <td>NaN</td>\n",
              "      <td>NaN</td>\n",
              "    </tr>\n",
              "    <tr>\n",
              "      <th>1</th>\n",
              "      <td>impedance</td>\n",
              "      <td>[2010.       7.      21.      16.      53.    ...</td>\n",
              "      <td>24</td>\n",
              "      <td>B0047</td>\n",
              "      <td>1</td>\n",
              "      <td>2</td>\n",
              "      <td>00002.csv</td>\n",
              "      <td>NaN</td>\n",
              "      <td>0.05605783343888099</td>\n",
              "      <td>0.20097016584458333</td>\n",
              "    </tr>\n",
              "    <tr>\n",
              "      <th>2</th>\n",
              "      <td>charge</td>\n",
              "      <td>[2010.       7.      21.      17.      25.    ...</td>\n",
              "      <td>4</td>\n",
              "      <td>B0047</td>\n",
              "      <td>2</td>\n",
              "      <td>3</td>\n",
              "      <td>00003.csv</td>\n",
              "      <td>NaN</td>\n",
              "      <td>NaN</td>\n",
              "      <td>NaN</td>\n",
              "    </tr>\n",
              "  </tbody>\n",
              "</table>\n",
              "</div>"
            ],
            "text/plain": [
              "        type                                         start_time  \\\n",
              "0  discharge  [2010.       7.      21.      15.       0.    ...   \n",
              "1  impedance  [2010.       7.      21.      16.      53.    ...   \n",
              "2     charge  [2010.       7.      21.      17.      25.    ...   \n",
              "\n",
              "   ambient_temperature battery_id  test_id  uid   filename  \\\n",
              "0                    4      B0047        0    1  00001.csv   \n",
              "1                   24      B0047        1    2  00002.csv   \n",
              "2                    4      B0047        2    3  00003.csv   \n",
              "\n",
              "             Capacity                   Re                  Rct  \n",
              "0  1.6743047446975208                  NaN                  NaN  \n",
              "1                 NaN  0.05605783343888099  0.20097016584458333  \n",
              "2                 NaN                  NaN                  NaN  "
            ]
          },
          "execution_count": 12,
          "metadata": {},
          "output_type": "execute_result"
        }
      ],
      "source": [
        "B0047_df = df[df['battery_id'] == 'B0047']\n",
        "B0047_df.head(3)"
      ]
    },
    {
      "cell_type": "code",
      "execution_count": null,
      "id": "12388044-86b6-4d1f-be2b-4dc62e176ac1",
      "metadata": {
        "id": "12388044-86b6-4d1f-be2b-4dc62e176ac1",
        "outputId": "00db1f62-6d74-4c8b-d5c0-a4db2eec5caf"
      },
      "outputs": [
        {
          "data": {
            "text/plain": [
              "ambient_temperature\n",
              "4     144\n",
              "24     40\n",
              "Name: count, dtype: int64"
            ]
          },
          "execution_count": 13,
          "metadata": {},
          "output_type": "execute_result"
        }
      ],
      "source": [
        "B0047_TempValues = B0047_df['ambient_temperature'].value_counts()\n",
        "B0047_TempValues"
      ]
    },
    {
      "cell_type": "markdown",
      "id": "e596e7ed-ef65-41af-8c11-bdcf704cb4e8",
      "metadata": {
        "id": "e596e7ed-ef65-41af-8c11-bdcf704cb4e8"
      },
      "source": [
        "The paper displays the capacity degradation curve for four batteries B0005,B0006,B0007 and B0018. The above code sinippts are an effort to understand the vairous ambient temperatures at which the cycling of these 4 batteries were performed.\n",
        "* B00005 => 24degC\n",
        "* B00006 => 24degC\n",
        "* B00007 => 24degC\n",
        "* B00018 => 24degC\n",
        "* B00047 => 24degC & 4degC\n"
      ]
    },
    {
      "cell_type": "markdown",
      "id": "5ea54d10-f322-46fa-b0bc-f3bc4557583d",
      "metadata": {
        "id": "5ea54d10-f322-46fa-b0bc-f3bc4557583d"
      },
      "source": [
        "<b> Determine the file numbers for charge for batteries </b>"
      ]
    },
    {
      "cell_type": "code",
      "execution_count": null,
      "id": "9ef4c52d-6a10-4940-bb16-ecfcb0baa3d2",
      "metadata": {
        "id": "9ef4c52d-6a10-4940-bb16-ecfcb0baa3d2",
        "outputId": "ed7d1730-06e5-4e82-8738-d4f1f51cea5f"
      },
      "outputs": [
        {
          "data": {
            "text/plain": [
              "5120    05121.csv\n",
              "5122    05123.csv\n",
              "5124    05125.csv\n",
              "5126    05127.csv\n",
              "5128    05129.csv\n",
              "          ...    \n",
              "5721    05722.csv\n",
              "5725    05726.csv\n",
              "5729    05730.csv\n",
              "5732    05733.csv\n",
              "5735    05736.csv\n",
              "Name: filename, Length: 170, dtype: object"
            ]
          },
          "execution_count": 14,
          "metadata": {},
          "output_type": "execute_result"
        }
      ],
      "source": [
        "idx_B0005_charge = df['filename'].loc[(df['battery_id']== 'B0005') & (df['type']== 'charge')]\n",
        "idx_B0005_charge"
      ]
    },
    {
      "cell_type": "code",
      "execution_count": null,
      "id": "53160b65-5ff6-45f9-ace4-a76648264b54",
      "metadata": {
        "id": "53160b65-5ff6-45f9-ace4-a76648264b54",
        "outputId": "a7433d48-0aa0-4a7c-a2a0-dca7e1152ced"
      },
      "outputs": [
        {
          "data": {
            "text/plain": [
              "numpy.ndarray"
            ]
          },
          "execution_count": 15,
          "metadata": {},
          "output_type": "execute_result"
        }
      ],
      "source": [
        "import numpy as np\n",
        "idx_B0005_charge_npy = idx_B0005_charge.to_numpy()\n",
        "type(idx_B0005_charge_npy)\n"
      ]
    },
    {
      "cell_type": "code",
      "execution_count": null,
      "id": "71e03f13-070f-43ff-acb3-4a64eeb5bcb0",
      "metadata": {
        "id": "71e03f13-070f-43ff-acb3-4a64eeb5bcb0"
      },
      "outputs": [],
      "source": [
        "import numpy as np\n",
        "np.save('/Users/susmithaganesh/Desktop/Project/Data/Identified_indices/idx_B0005_charge', idx_B0005_charge_npy)"
      ]
    },
    {
      "cell_type": "code",
      "execution_count": null,
      "id": "e7cc04a2-f313-44cb-a190-b799d06098b2",
      "metadata": {
        "id": "e7cc04a2-f313-44cb-a190-b799d06098b2",
        "outputId": "6678be9c-c24e-4d97-fac6-1dda1e927d9f"
      },
      "outputs": [
        {
          "data": {
            "text/plain": [
              "4504    04505.csv\n",
              "4506    04507.csv\n",
              "4508    04509.csv\n",
              "4510    04511.csv\n",
              "4512    04513.csv\n",
              "          ...    \n",
              "5105    05106.csv\n",
              "5109    05110.csv\n",
              "5113    05114.csv\n",
              "5116    05117.csv\n",
              "5119    05120.csv\n",
              "Name: filename, Length: 170, dtype: object"
            ]
          },
          "execution_count": 14,
          "metadata": {},
          "output_type": "execute_result"
        }
      ],
      "source": [
        "idx_B0006_charge = df['filename'].loc[(df['battery_id']== 'B0006') & (df['type']== 'charge')]\n",
        "idx_B0006_charge"
      ]
    },
    {
      "cell_type": "code",
      "execution_count": null,
      "id": "9419b881-b88b-4c8e-83ce-13a02c48ef3a",
      "metadata": {
        "id": "9419b881-b88b-4c8e-83ce-13a02c48ef3a",
        "outputId": "50062c9e-0ad1-4098-8143-e9652215f0ff"
      },
      "outputs": [
        {
          "data": {
            "text/plain": [
              "numpy.ndarray"
            ]
          },
          "execution_count": 28,
          "metadata": {},
          "output_type": "execute_result"
        }
      ],
      "source": [
        "import numpy as np\n",
        "idx_B0006_charge_npy = idx_B0006_charge.to_numpy()\n",
        "type(idx_B0006_charge_npy)\n"
      ]
    },
    {
      "cell_type": "code",
      "execution_count": null,
      "id": "b0644700-4607-4012-b0af-c593599c01fb",
      "metadata": {
        "id": "b0644700-4607-4012-b0af-c593599c01fb"
      },
      "outputs": [],
      "source": [
        "np.save('/Users/susmithaganesh/Desktop/Project/Data/Identified_indices/idx_B0006_charge', idx_B0006_charge_npy)\n"
      ]
    },
    {
      "cell_type": "code",
      "execution_count": null,
      "id": "2dfd5496-cf42-4c9a-a1ab-e416c53f64a3",
      "metadata": {
        "id": "2dfd5496-cf42-4c9a-a1ab-e416c53f64a3",
        "outputId": "d5ec242c-b73f-4880-bfda-d27544ad3a60"
      },
      "outputs": [
        {
          "data": {
            "text/plain": [
              "5736    05737.csv\n",
              "5738    05739.csv\n",
              "5740    05741.csv\n",
              "5742    05743.csv\n",
              "5744    05745.csv\n",
              "          ...    \n",
              "6337    06338.csv\n",
              "6341    06342.csv\n",
              "6345    06346.csv\n",
              "6348    06349.csv\n",
              "6351    06352.csv\n",
              "Name: filename, Length: 170, dtype: object"
            ]
          },
          "execution_count": 15,
          "metadata": {},
          "output_type": "execute_result"
        }
      ],
      "source": [
        "idx_B0007_charge = df['filename'].loc[(df['battery_id']== 'B0007') & (df['type']== 'charge')]\n",
        "idx_B0007_charge"
      ]
    },
    {
      "cell_type": "code",
      "execution_count": null,
      "id": "84f1ed0f-1fe1-4b4d-b723-d3b723b048a7",
      "metadata": {
        "id": "84f1ed0f-1fe1-4b4d-b723-d3b723b048a7",
        "outputId": "e3f84918-9303-40e6-f816-549d2757a9c7"
      },
      "outputs": [
        {
          "data": {
            "text/plain": [
              "numpy.ndarray"
            ]
          },
          "execution_count": 30,
          "metadata": {},
          "output_type": "execute_result"
        }
      ],
      "source": [
        "idx_B0007_charge_npy = idx_B0007_charge.to_numpy()\n",
        "type(idx_B0007_charge_npy)"
      ]
    },
    {
      "cell_type": "code",
      "execution_count": null,
      "id": "4a21e6db-fe32-494d-b6f6-9d11478ba417",
      "metadata": {
        "id": "4a21e6db-fe32-494d-b6f6-9d11478ba417"
      },
      "outputs": [],
      "source": [
        "np.save('/Users/susmithaganesh/Desktop/Project/Data/Identified_indices/idx_B0007_charge', idx_B0007_charge_npy)"
      ]
    },
    {
      "cell_type": "code",
      "execution_count": null,
      "id": "8e441dab-3eb2-4b36-b630-afbcf2fcfc77",
      "metadata": {
        "id": "8e441dab-3eb2-4b36-b630-afbcf2fcfc77",
        "outputId": "5c51b84b-4f7d-49ba-a48d-49a363a17104"
      },
      "outputs": [
        {
          "data": {
            "text/plain": [
              "6352    06353.csv\n",
              "6356    06357.csv\n",
              "6360    06361.csv\n",
              "6364    06365.csv\n",
              "6368    06369.csv\n",
              "          ...    \n",
              "6659    06660.csv\n",
              "6661    06662.csv\n",
              "6663    06664.csv\n",
              "6667    06668.csv\n",
              "6669    06670.csv\n",
              "Name: filename, Length: 134, dtype: object"
            ]
          },
          "execution_count": 16,
          "metadata": {},
          "output_type": "execute_result"
        }
      ],
      "source": [
        "idx_B0018_charge = df['filename'].loc[(df['battery_id']== 'B0018') & (df['type']== 'charge')]\n",
        "idx_B0018_charge"
      ]
    },
    {
      "cell_type": "code",
      "execution_count": null,
      "id": "9680d22a-17c3-47c1-925a-d5254445ddb9",
      "metadata": {
        "id": "9680d22a-17c3-47c1-925a-d5254445ddb9",
        "outputId": "df453c19-f3ee-4eec-8473-768faf97302c"
      },
      "outputs": [
        {
          "data": {
            "text/plain": [
              "numpy.ndarray"
            ]
          },
          "execution_count": 32,
          "metadata": {},
          "output_type": "execute_result"
        }
      ],
      "source": [
        "idx_B0018_charge_npy = idx_B0018_charge.to_numpy()\n",
        "type(idx_B0018_charge_npy)"
      ]
    },
    {
      "cell_type": "code",
      "execution_count": null,
      "id": "aece3e5b-ae91-4a5f-bfee-58cc5ce156b1",
      "metadata": {
        "id": "aece3e5b-ae91-4a5f-bfee-58cc5ce156b1"
      },
      "outputs": [],
      "source": [
        "np.save('/Users/susmithaganesh/Desktop/Project/Data/Identified_indices/idx_B0018_charge', idx_B0018_charge_npy)"
      ]
    },
    {
      "cell_type": "markdown",
      "id": "fe994fa6-3b0f-43cc-9f4a-6e12a03e1308",
      "metadata": {
        "id": "fe994fa6-3b0f-43cc-9f4a-6e12a03e1308"
      },
      "source": [
        "<b> Determine the file numbers for discharge for batteries </b>"
      ]
    },
    {
      "cell_type": "code",
      "execution_count": null,
      "id": "64b77aba-24e4-4d6b-88c4-9cd485690cee",
      "metadata": {
        "id": "64b77aba-24e4-4d6b-88c4-9cd485690cee",
        "outputId": "0ce871e2-988b-48fe-eb6a-3ce870d424fc"
      },
      "outputs": [
        {
          "data": {
            "text/plain": [
              "5121    05122.csv\n",
              "5123    05124.csv\n",
              "5125    05126.csv\n",
              "5127    05128.csv\n",
              "5129    05130.csv\n",
              "          ...    \n",
              "5719    05720.csv\n",
              "5723    05724.csv\n",
              "5727    05728.csv\n",
              "5731    05732.csv\n",
              "5733    05734.csv\n",
              "Name: filename, Length: 168, dtype: object"
            ]
          },
          "execution_count": 17,
          "metadata": {},
          "output_type": "execute_result"
        }
      ],
      "source": [
        "filename_B0005_discharge = df['filename'].loc[(df['battery_id']== 'B0005') & (df['type']== 'discharge')]\n",
        "filename_B0005_discharge"
      ]
    },
    {
      "cell_type": "code",
      "execution_count": null,
      "id": "c792174e-fef6-4856-9350-aaff990774b6",
      "metadata": {
        "id": "c792174e-fef6-4856-9350-aaff990774b6",
        "outputId": "98cdeb88-6179-473c-e8b5-1a8f4f2b3482"
      },
      "outputs": [
        {
          "data": {
            "text/plain": [
              "4505    04506.csv\n",
              "4507    04508.csv\n",
              "4509    04510.csv\n",
              "4511    04512.csv\n",
              "4513    04514.csv\n",
              "          ...    \n",
              "5103    05104.csv\n",
              "5107    05108.csv\n",
              "5111    05112.csv\n",
              "5115    05116.csv\n",
              "5117    05118.csv\n",
              "Name: filename, Length: 168, dtype: object"
            ]
          },
          "execution_count": 18,
          "metadata": {},
          "output_type": "execute_result"
        }
      ],
      "source": [
        "filename_B0006_discharge = df['filename'].loc[(df['battery_id']== 'B0006') & (df['type']== 'discharge')]\n",
        "filename_B0006_discharge"
      ]
    },
    {
      "cell_type": "code",
      "execution_count": null,
      "id": "4cb1cc30-a17d-4c20-a03e-a49fcd808782",
      "metadata": {
        "id": "4cb1cc30-a17d-4c20-a03e-a49fcd808782",
        "outputId": "06fbd458-9fc9-4df2-9dfa-89e8d377d025"
      },
      "outputs": [
        {
          "data": {
            "text/plain": [
              "5737    05738.csv\n",
              "5739    05740.csv\n",
              "5741    05742.csv\n",
              "5743    05744.csv\n",
              "5745    05746.csv\n",
              "          ...    \n",
              "6335    06336.csv\n",
              "6339    06340.csv\n",
              "6343    06344.csv\n",
              "6347    06348.csv\n",
              "6349    06350.csv\n",
              "Name: filename, Length: 168, dtype: object"
            ]
          },
          "execution_count": 19,
          "metadata": {},
          "output_type": "execute_result"
        }
      ],
      "source": [
        "filename_B0007_discharge = df['filename'].loc[(df['battery_id']== 'B0007') & (df['type']== 'discharge')]\n",
        "filename_B0007_discharge"
      ]
    },
    {
      "cell_type": "code",
      "execution_count": null,
      "id": "071d50b5-1d8a-4b77-884c-88cd4caa6c09",
      "metadata": {
        "id": "071d50b5-1d8a-4b77-884c-88cd4caa6c09",
        "outputId": "94904d07-b04c-4f97-e4fa-e59647b36ed5"
      },
      "outputs": [
        {
          "data": {
            "text/plain": [
              "6354    06355.csv\n",
              "6358    06359.csv\n",
              "6362    06363.csv\n",
              "6366    06367.csv\n",
              "6369    06370.csv\n",
              "          ...    \n",
              "6660    06661.csv\n",
              "6662    06663.csv\n",
              "6665    06666.csv\n",
              "6668    06669.csv\n",
              "6670    06671.csv\n",
              "Name: filename, Length: 132, dtype: object"
            ]
          },
          "execution_count": 20,
          "metadata": {},
          "output_type": "execute_result"
        }
      ],
      "source": [
        "filename_B0018_discharge = df['filename'].loc[(df['battery_id']== 'B0018') & (df['type']== 'discharge')]\n",
        "filename_B0018_discharge"
      ]
    },
    {
      "cell_type": "code",
      "execution_count": null,
      "id": "d32cefc3-a12c-4e7d-bda9-7f2f4e0bb98f",
      "metadata": {
        "id": "d32cefc3-a12c-4e7d-bda9-7f2f4e0bb98f",
        "outputId": "fa1e1969-c8d0-464c-9508-d54ca94bae80"
      },
      "outputs": [
        {
          "data": {
            "text/plain": [
              "0      00001.csv\n",
              "4      00005.csv\n",
              "6      00007.csv\n",
              "8      00009.csv\n",
              "10     00011.csv\n",
              "         ...    \n",
              "172    00173.csv\n",
              "174    00175.csv\n",
              "176    00177.csv\n",
              "178    00179.csv\n",
              "180    00181.csv\n",
              "Name: filename, Length: 72, dtype: object"
            ]
          },
          "execution_count": 21,
          "metadata": {},
          "output_type": "execute_result"
        }
      ],
      "source": [
        "filename_B0047_discharge = df['filename'].loc[(df['battery_id']== 'B0047') & (df['type']== 'discharge')]\n",
        "filename_B0047_discharge"
      ]
    },
    {
      "cell_type": "markdown",
      "id": "82818650-d835-4e6c-8027-0b6f6beea2d6",
      "metadata": {
        "id": "82818650-d835-4e6c-8027-0b6f6beea2d6"
      },
      "source": [
        "To plot the capacity degradation of B0005"
      ]
    },
    {
      "cell_type": "code",
      "execution_count": null,
      "id": "ae5e1db9-8e60-4b1f-9420-59862ea90987",
      "metadata": {
        "id": "ae5e1db9-8e60-4b1f-9420-59862ea90987"
      },
      "outputs": [],
      "source": []
    },
    {
      "cell_type": "code",
      "execution_count": null,
      "id": "e48d1742-f3e6-40eb-b142-dcab9347637e",
      "metadata": {
        "id": "e48d1742-f3e6-40eb-b142-dcab9347637e",
        "outputId": "3c30b153-7094-4676-c886-6e312a63748b"
      },
      "outputs": [
        {
          "data": {
            "text/html": [
              "<div>\n",
              "<style scoped>\n",
              "    .dataframe tbody tr th:only-of-type {\n",
              "        vertical-align: middle;\n",
              "    }\n",
              "\n",
              "    .dataframe tbody tr th {\n",
              "        vertical-align: top;\n",
              "    }\n",
              "\n",
              "    .dataframe thead th {\n",
              "        text-align: right;\n",
              "    }\n",
              "</style>\n",
              "<table border=\"1\" class=\"dataframe\">\n",
              "  <thead>\n",
              "    <tr style=\"text-align: right;\">\n",
              "      <th></th>\n",
              "      <th>type</th>\n",
              "      <th>battery_id</th>\n",
              "      <th>test_id</th>\n",
              "      <th>uid</th>\n",
              "      <th>filename</th>\n",
              "      <th>Capacity</th>\n",
              "    </tr>\n",
              "  </thead>\n",
              "  <tbody>\n",
              "    <tr>\n",
              "      <th>5120</th>\n",
              "      <td>charge</td>\n",
              "      <td>B0005</td>\n",
              "      <td>0</td>\n",
              "      <td>5121</td>\n",
              "      <td>05121.csv</td>\n",
              "      <td>NaN</td>\n",
              "    </tr>\n",
              "    <tr>\n",
              "      <th>5121</th>\n",
              "      <td>discharge</td>\n",
              "      <td>B0005</td>\n",
              "      <td>1</td>\n",
              "      <td>5122</td>\n",
              "      <td>05122.csv</td>\n",
              "      <td>1.8564874208181574</td>\n",
              "    </tr>\n",
              "    <tr>\n",
              "      <th>5122</th>\n",
              "      <td>charge</td>\n",
              "      <td>B0005</td>\n",
              "      <td>2</td>\n",
              "      <td>5123</td>\n",
              "      <td>05123.csv</td>\n",
              "      <td>NaN</td>\n",
              "    </tr>\n",
              "  </tbody>\n",
              "</table>\n",
              "</div>"
            ],
            "text/plain": [
              "           type battery_id  test_id   uid   filename            Capacity\n",
              "5120     charge      B0005        0  5121  05121.csv                 NaN\n",
              "5121  discharge      B0005        1  5122  05122.csv  1.8564874208181574\n",
              "5122     charge      B0005        2  5123  05123.csv                 NaN"
            ]
          },
          "execution_count": 30,
          "metadata": {},
          "output_type": "execute_result"
        }
      ],
      "source": [
        "B0005_df_Cap = B0005_df[['type','battery_id','test_id','uid','filename','Capacity']]\n",
        "B0005_df_Cap.head(3)"
      ]
    },
    {
      "cell_type": "code",
      "execution_count": null,
      "id": "d52ef4b1-1625-4e88-9072-73990d5327bb",
      "metadata": {
        "id": "d52ef4b1-1625-4e88-9072-73990d5327bb",
        "outputId": "cedd612f-613a-4c84-9c04-2e64c683462a"
      },
      "outputs": [
        {
          "data": {
            "text/html": [
              "<div>\n",
              "<style scoped>\n",
              "    .dataframe tbody tr th:only-of-type {\n",
              "        vertical-align: middle;\n",
              "    }\n",
              "\n",
              "    .dataframe tbody tr th {\n",
              "        vertical-align: top;\n",
              "    }\n",
              "\n",
              "    .dataframe thead th {\n",
              "        text-align: right;\n",
              "    }\n",
              "</style>\n",
              "<table border=\"1\" class=\"dataframe\">\n",
              "  <thead>\n",
              "    <tr style=\"text-align: right;\">\n",
              "      <th></th>\n",
              "      <th>type</th>\n",
              "      <th>battery_id</th>\n",
              "      <th>test_id</th>\n",
              "      <th>uid</th>\n",
              "      <th>filename</th>\n",
              "      <th>Capacity</th>\n",
              "      <th>SOHC</th>\n",
              "    </tr>\n",
              "  </thead>\n",
              "  <tbody>\n",
              "    <tr>\n",
              "      <th>5121</th>\n",
              "      <td>discharge</td>\n",
              "      <td>B0005</td>\n",
              "      <td>1</td>\n",
              "      <td>5122</td>\n",
              "      <td>05122.csv</td>\n",
              "      <td>1.8564874208181574</td>\n",
              "      <td>100.000</td>\n",
              "    </tr>\n",
              "    <tr>\n",
              "      <th>5123</th>\n",
              "      <td>discharge</td>\n",
              "      <td>B0005</td>\n",
              "      <td>3</td>\n",
              "      <td>5124</td>\n",
              "      <td>05124.csv</td>\n",
              "      <td>1.846327249719927</td>\n",
              "      <td>99.453</td>\n",
              "    </tr>\n",
              "    <tr>\n",
              "      <th>5125</th>\n",
              "      <td>discharge</td>\n",
              "      <td>B0005</td>\n",
              "      <td>5</td>\n",
              "      <td>5126</td>\n",
              "      <td>05126.csv</td>\n",
              "      <td>1.8353491942234077</td>\n",
              "      <td>98.861</td>\n",
              "    </tr>\n",
              "  </tbody>\n",
              "</table>\n",
              "</div>"
            ],
            "text/plain": [
              "           type battery_id  test_id   uid   filename            Capacity  \\\n",
              "5121  discharge      B0005        1  5122  05122.csv  1.8564874208181574   \n",
              "5123  discharge      B0005        3  5124  05124.csv   1.846327249719927   \n",
              "5125  discharge      B0005        5  5126  05126.csv  1.8353491942234077   \n",
              "\n",
              "         SOHC  \n",
              "5121  100.000  \n",
              "5123   99.453  \n",
              "5125   98.861  "
            ]
          },
          "execution_count": 62,
          "metadata": {},
          "output_type": "execute_result"
        }
      ],
      "source": [
        "B0005_df_Cap = B0005_df_Cap.loc[B0005_df_Cap['Capacity'].notnull()]\n",
        "B0005_df_Cap['Capacity'] = B0005_df_Cap['Capacity'].round(3)\n",
        "B0005_df_Cap.head(3)"
      ]
    },
    {
      "cell_type": "code",
      "execution_count": null,
      "id": "fd326116-5287-421b-b068-b9014a62b87f",
      "metadata": {
        "id": "fd326116-5287-421b-b068-b9014a62b87f",
        "outputId": "53ffcffa-6e65-4095-ca2a-816ea8bb93bc"
      },
      "outputs": [
        {
          "data": {
            "text/plain": [
              "type          168\n",
              "battery_id    168\n",
              "test_id       168\n",
              "uid           168\n",
              "filename      168\n",
              "Capacity      168\n",
              "SOHC          168\n",
              "dtype: int64"
            ]
          },
          "execution_count": 63,
          "metadata": {},
          "output_type": "execute_result"
        }
      ],
      "source": [
        "B0005_df_Cap.count()"
      ]
    },
    {
      "cell_type": "code",
      "execution_count": null,
      "id": "1ed109f3-40bf-4252-9309-3db4ac9941de",
      "metadata": {
        "id": "1ed109f3-40bf-4252-9309-3db4ac9941de",
        "outputId": "10a87d52-4a85-4709-97e9-457de35a4a4e"
      },
      "outputs": [
        {
          "data": {
            "text/html": [
              "<div>\n",
              "<style scoped>\n",
              "    .dataframe tbody tr th:only-of-type {\n",
              "        vertical-align: middle;\n",
              "    }\n",
              "\n",
              "    .dataframe tbody tr th {\n",
              "        vertical-align: top;\n",
              "    }\n",
              "\n",
              "    .dataframe thead th {\n",
              "        text-align: right;\n",
              "    }\n",
              "</style>\n",
              "<table border=\"1\" class=\"dataframe\">\n",
              "  <thead>\n",
              "    <tr style=\"text-align: right;\">\n",
              "      <th></th>\n",
              "      <th>type</th>\n",
              "      <th>battery_id</th>\n",
              "      <th>test_id</th>\n",
              "      <th>uid</th>\n",
              "      <th>filename</th>\n",
              "      <th>Capacity</th>\n",
              "      <th>SOHC</th>\n",
              "    </tr>\n",
              "  </thead>\n",
              "  <tbody>\n",
              "    <tr>\n",
              "      <th>5121</th>\n",
              "      <td>discharge</td>\n",
              "      <td>B0005</td>\n",
              "      <td>1</td>\n",
              "      <td>5122</td>\n",
              "      <td>05122.csv</td>\n",
              "      <td>1.8564874208181574</td>\n",
              "      <td>100.000</td>\n",
              "    </tr>\n",
              "    <tr>\n",
              "      <th>5123</th>\n",
              "      <td>discharge</td>\n",
              "      <td>B0005</td>\n",
              "      <td>3</td>\n",
              "      <td>5124</td>\n",
              "      <td>05124.csv</td>\n",
              "      <td>1.846327249719927</td>\n",
              "      <td>99.453</td>\n",
              "    </tr>\n",
              "    <tr>\n",
              "      <th>5125</th>\n",
              "      <td>discharge</td>\n",
              "      <td>B0005</td>\n",
              "      <td>5</td>\n",
              "      <td>5126</td>\n",
              "      <td>05126.csv</td>\n",
              "      <td>1.8353491942234077</td>\n",
              "      <td>98.861</td>\n",
              "    </tr>\n",
              "  </tbody>\n",
              "</table>\n",
              "</div>"
            ],
            "text/plain": [
              "           type battery_id  test_id   uid   filename            Capacity  \\\n",
              "5121  discharge      B0005        1  5122  05122.csv  1.8564874208181574   \n",
              "5123  discharge      B0005        3  5124  05124.csv   1.846327249719927   \n",
              "5125  discharge      B0005        5  5126  05126.csv  1.8353491942234077   \n",
              "\n",
              "         SOHC  \n",
              "5121  100.000  \n",
              "5123   99.453  \n",
              "5125   98.861  "
            ]
          },
          "execution_count": 64,
          "metadata": {},
          "output_type": "execute_result"
        }
      ],
      "source": [
        "B0005_df_Cap['SOHC'] = (B0005_df_Cap['Capacity'].astype(float)* 100)/1.8564874208181574\n",
        "B0005_df_Cap['SOHC'] = B0005_df_Cap['SOHC'].round(3)\n",
        "B0005_df_Cap.head(3)"
      ]
    },
    {
      "cell_type": "code",
      "execution_count": null,
      "id": "e17db86e-5ec2-4f89-8016-6083391fb6cd",
      "metadata": {
        "id": "e17db86e-5ec2-4f89-8016-6083391fb6cd"
      },
      "outputs": [],
      "source": [
        "%matplotlib inline\n",
        "from matplotlib import pyplot as plt"
      ]
    },
    {
      "cell_type": "code",
      "execution_count": null,
      "id": "ead0aece-450b-48dd-b17e-c28d8eb94c56",
      "metadata": {
        "id": "ead0aece-450b-48dd-b17e-c28d8eb94c56",
        "outputId": "c00c716f-6311-478b-bb82-d3045f8f5d8e"
      },
      "outputs": [
        {
          "data": {
            "image/png": "[encoded data removed]",
            "text/plain": [
              "<Figure size 640x480 with 1 Axes>"
            ]
          },
          "metadata": {},
          "output_type": "display_data"
        }
      ],
      "source": [
        "plt.plot(B0005_df_Cap['SOHC'])\n",
        "plt.show()"
      ]
    },
    {
      "cell_type": "code",
      "execution_count": null,
      "id": "bd4d4ac2-35df-4f62-830b-175808e0ff6f",
      "metadata": {
        "id": "bd4d4ac2-35df-4f62-830b-175808e0ff6f",
        "outputId": "0b04f7c2-6d70-493a-8d79-d788352da34c"
      },
      "outputs": [
        {
          "data": {
            "text/plain": [
              "97.07078430974815"
            ]
          },
          "execution_count": 46,
          "metadata": {},
          "output_type": "execute_result"
        }
      ],
      "source": [
        "1.8021069*100/1.8564874208181574"
      ]
    },
    {
      "cell_type": "code",
      "execution_count": null,
      "id": "1968fb15-bcb9-4273-a65a-af6d5f537afe",
      "metadata": {
        "id": "1968fb15-bcb9-4273-a65a-af6d5f537afe",
        "outputId": "411cfe56-8444-4515-c8fb-219b0b9000b4"
      },
      "outputs": [
        {
          "data": {
            "text/html": [
              "<div>\n",
              "<style scoped>\n",
              "    .dataframe tbody tr th:only-of-type {\n",
              "        vertical-align: middle;\n",
              "    }\n",
              "\n",
              "    .dataframe tbody tr th {\n",
              "        vertical-align: top;\n",
              "    }\n",
              "\n",
              "    .dataframe thead th {\n",
              "        text-align: right;\n",
              "    }\n",
              "</style>\n",
              "<table border=\"1\" class=\"dataframe\">\n",
              "  <thead>\n",
              "    <tr style=\"text-align: right;\">\n",
              "      <th></th>\n",
              "      <th>type</th>\n",
              "      <th>battery_id</th>\n",
              "      <th>test_id</th>\n",
              "      <th>uid</th>\n",
              "      <th>filename</th>\n",
              "      <th>Capacity</th>\n",
              "      <th>SOHC</th>\n",
              "    </tr>\n",
              "  </thead>\n",
              "  <tbody>\n",
              "    <tr>\n",
              "      <th>5737</th>\n",
              "      <td>discharge</td>\n",
              "      <td>B0007</td>\n",
              "      <td>1</td>\n",
              "      <td>5738</td>\n",
              "      <td>05738.csv</td>\n",
              "      <td>1.891052295</td>\n",
              "      <td>100.000</td>\n",
              "    </tr>\n",
              "    <tr>\n",
              "      <th>5739</th>\n",
              "      <td>discharge</td>\n",
              "      <td>B0007</td>\n",
              "      <td>3</td>\n",
              "      <td>5740</td>\n",
              "      <td>05740.csv</td>\n",
              "      <td>1.880637027686859</td>\n",
              "      <td>99.449</td>\n",
              "    </tr>\n",
              "    <tr>\n",
              "      <th>5741</th>\n",
              "      <td>discharge</td>\n",
              "      <td>B0007</td>\n",
              "      <td>5</td>\n",
              "      <td>5742</td>\n",
              "      <td>05742.csv</td>\n",
              "      <td>1.8806626717011388</td>\n",
              "      <td>99.451</td>\n",
              "    </tr>\n",
              "  </tbody>\n",
              "</table>\n",
              "</div>"
            ],
            "text/plain": [
              "           type battery_id  test_id   uid   filename            Capacity  \\\n",
              "5737  discharge      B0007        1  5738  05738.csv         1.891052295   \n",
              "5739  discharge      B0007        3  5740  05740.csv   1.880637027686859   \n",
              "5741  discharge      B0007        5  5742  05742.csv  1.8806626717011388   \n",
              "\n",
              "         SOHC  \n",
              "5737  100.000  \n",
              "5739   99.449  \n",
              "5741   99.451  "
            ]
          },
          "execution_count": 208,
          "metadata": {},
          "output_type": "execute_result"
        }
      ],
      "source": [
        "B0007_df_Cap = B0007_df[['type','battery_id','test_id','uid','filename','Capacity']]\n",
        "B0007_df_Cap = B0007_df_Cap.loc[B0007_df_Cap['Capacity'].notnull()]\n",
        "B0007_df_Cap['Capacity'] = B0007_df_Cap['Capacity'].round(3)\n",
        "B0007_df_Cap['SOHC'] = (B0007_df_Cap['Capacity'].astype(float)* 100)/1.891052295\n",
        "B0007_df_Cap['SOHC'] = B0007_df_Cap['SOHC'].round(3)\n",
        "B0007_df_Cap.head(3)"
      ]
    },
    {
      "cell_type": "code",
      "execution_count": null,
      "id": "4f21df94-3a05-471e-b671-85a620046fd4",
      "metadata": {
        "id": "4f21df94-3a05-471e-b671-85a620046fd4",
        "outputId": "53b8c79b-4592-4679-c965-24e2996c4330"
      },
      "outputs": [
        {
          "data": {
            "text/html": [
              "<div>\n",
              "<style scoped>\n",
              "    .dataframe tbody tr th:only-of-type {\n",
              "        vertical-align: middle;\n",
              "    }\n",
              "\n",
              "    .dataframe tbody tr th {\n",
              "        vertical-align: top;\n",
              "    }\n",
              "\n",
              "    .dataframe thead th {\n",
              "        text-align: right;\n",
              "    }\n",
              "</style>\n",
              "<table border=\"1\" class=\"dataframe\">\n",
              "  <thead>\n",
              "    <tr style=\"text-align: right;\">\n",
              "      <th></th>\n",
              "      <th>type</th>\n",
              "      <th>battery_id</th>\n",
              "      <th>test_id</th>\n",
              "      <th>uid</th>\n",
              "      <th>filename</th>\n",
              "      <th>Capacity</th>\n",
              "      <th>SOHC</th>\n",
              "    </tr>\n",
              "  </thead>\n",
              "  <tbody>\n",
              "    <tr>\n",
              "      <th>0</th>\n",
              "      <td>discharge</td>\n",
              "      <td>B0047</td>\n",
              "      <td>0</td>\n",
              "      <td>1</td>\n",
              "      <td>00001.csv</td>\n",
              "      <td>1.6743047446975208</td>\n",
              "      <td>100.000</td>\n",
              "    </tr>\n",
              "    <tr>\n",
              "      <th>4</th>\n",
              "      <td>discharge</td>\n",
              "      <td>B0047</td>\n",
              "      <td>4</td>\n",
              "      <td>5</td>\n",
              "      <td>00005.csv</td>\n",
              "      <td>1.5243662105099023</td>\n",
              "      <td>91.045</td>\n",
              "    </tr>\n",
              "    <tr>\n",
              "      <th>6</th>\n",
              "      <td>discharge</td>\n",
              "      <td>B0047</td>\n",
              "      <td>6</td>\n",
              "      <td>7</td>\n",
              "      <td>00007.csv</td>\n",
              "      <td>1.5080762969973425</td>\n",
              "      <td>90.072</td>\n",
              "    </tr>\n",
              "  </tbody>\n",
              "</table>\n",
              "</div>"
            ],
            "text/plain": [
              "        type battery_id  test_id  uid   filename            Capacity     SOHC\n",
              "0  discharge      B0047        0    1  00001.csv  1.6743047446975208  100.000\n",
              "4  discharge      B0047        4    5  00005.csv  1.5243662105099023   91.045\n",
              "6  discharge      B0047        6    7  00007.csv  1.5080762969973425   90.072"
            ]
          },
          "execution_count": 212,
          "metadata": {},
          "output_type": "execute_result"
        }
      ],
      "source": [
        "B0047_df_Cap = B0047_df[['type','battery_id','test_id','uid','filename','Capacity']]\n",
        "B0047_df_Cap = B0047_df_Cap.loc[B0047_df_Cap['Capacity'].notnull()]\n",
        "B0047_df_Cap['Capacity'] = B0047_df_Cap['Capacity'].round(3)\n",
        "B0047_df_Cap['SOHC'] = (B0047_df_Cap['Capacity'].astype(float)* 100)/1.6743047446975208\n",
        "B0047_df_Cap['SOHC'] = B0047_df_Cap['SOHC'].round(3)\n",
        "B0047_df_Cap.head(3)"
      ]
    },
    {
      "cell_type": "code",
      "execution_count": null,
      "id": "4f5f5440-028b-4145-831e-c29d7822c570",
      "metadata": {
        "id": "4f5f5440-028b-4145-831e-c29d7822c570",
        "outputId": "6666677e-fc97-4011-8fcd-2ecdc3f26ebf"
      },
      "outputs": [
        {
          "data": {
            "text/html": [
              "<div>\n",
              "<style scoped>\n",
              "    .dataframe tbody tr th:only-of-type {\n",
              "        vertical-align: middle;\n",
              "    }\n",
              "\n",
              "    .dataframe tbody tr th {\n",
              "        vertical-align: top;\n",
              "    }\n",
              "\n",
              "    .dataframe thead th {\n",
              "        text-align: right;\n",
              "    }\n",
              "</style>\n",
              "<table border=\"1\" class=\"dataframe\">\n",
              "  <thead>\n",
              "    <tr style=\"text-align: right;\">\n",
              "      <th></th>\n",
              "      <th>type</th>\n",
              "      <th>battery_id</th>\n",
              "      <th>test_id</th>\n",
              "      <th>uid</th>\n",
              "      <th>filename</th>\n",
              "      <th>Capacity</th>\n",
              "      <th>SOHC</th>\n",
              "    </tr>\n",
              "  </thead>\n",
              "  <tbody>\n",
              "    <tr>\n",
              "      <th>6354</th>\n",
              "      <td>discharge</td>\n",
              "      <td>B0018</td>\n",
              "      <td>2</td>\n",
              "      <td>6355</td>\n",
              "      <td>06355.csv</td>\n",
              "      <td>1.8550045207910817</td>\n",
              "      <td>100.000</td>\n",
              "    </tr>\n",
              "    <tr>\n",
              "      <th>6358</th>\n",
              "      <td>discharge</td>\n",
              "      <td>B0018</td>\n",
              "      <td>6</td>\n",
              "      <td>6359</td>\n",
              "      <td>06359.csv</td>\n",
              "      <td>1.8431955317089987</td>\n",
              "      <td>99.363</td>\n",
              "    </tr>\n",
              "    <tr>\n",
              "      <th>6362</th>\n",
              "      <td>discharge</td>\n",
              "      <td>B0018</td>\n",
              "      <td>10</td>\n",
              "      <td>6363</td>\n",
              "      <td>06363.csv</td>\n",
              "      <td>1.8396018424355423</td>\n",
              "      <td>99.170</td>\n",
              "    </tr>\n",
              "  </tbody>\n",
              "</table>\n",
              "</div>"
            ],
            "text/plain": [
              "           type battery_id  test_id   uid   filename            Capacity  \\\n",
              "6354  discharge      B0018        2  6355  06355.csv  1.8550045207910817   \n",
              "6358  discharge      B0018        6  6359  06359.csv  1.8431955317089987   \n",
              "6362  discharge      B0018       10  6363  06363.csv  1.8396018424355423   \n",
              "\n",
              "         SOHC  \n",
              "6354  100.000  \n",
              "6358   99.363  \n",
              "6362   99.170  "
            ]
          },
          "execution_count": 237,
          "metadata": {},
          "output_type": "execute_result"
        }
      ],
      "source": [
        "B0018_df_Cap = B0018_df[['type','battery_id','test_id','uid','filename','Capacity']]\n",
        "B0018_df_Cap = B0018_df_Cap.loc[B0018_df_Cap['Capacity'].notnull()]\n",
        "B0018_df_Cap['Capacity'] = B0018_df_Cap['Capacity'].round(3)\n",
        "B0018_df_Cap['SOHC'] = (B0018_df_Cap['Capacity'].astype(float)* 100)/1.8550045207910817\n",
        "B0018_df_Cap['SOHC'] = B0018_df_Cap['SOHC'].round(3)\n",
        "B0018_df_Cap.head(3)"
      ]
    },
    {
      "cell_type": "code",
      "execution_count": null,
      "id": "b3178d97-9760-40ce-b61a-a7b5840bd2c9",
      "metadata": {
        "id": "b3178d97-9760-40ce-b61a-a7b5840bd2c9",
        "outputId": "86adc08c-cfd6-4a77-b6a5-c2faf53e7cf6"
      },
      "outputs": [
        {
          "data": {
            "image/png": "[encoded data removed]",
            "text/plain": [
              "<Figure size 640x480 with 1 Axes>"
            ]
          },
          "metadata": {},
          "output_type": "display_data"
        }
      ],
      "source": [
        "B0006_df_Cap = B0006_df[['type','battery_id','test_id','uid','filename','Capacity']]\n",
        "B0006_df_Cap = B0006_df_Cap.loc[B0006_df_Cap['Capacity'].notnull()]\n",
        "B0006_df_Cap['Capacity'] = B0006_df_Cap['Capacity'].round(3)\n",
        "B0006_df_Cap['SOHC'] = (B0006_df_Cap['Capacity'].astype(float)* 100)/2.035337591005598\n",
        "B0006_df_Cap['SOHC'] = B0006_df_Cap['SOHC'].round(3)\n",
        "# B0006_df_Cap.head(3)\n",
        "plt.plot(B0006_df_Cap['test_id'],B0006_df_Cap['SOHC'])\n",
        "plt.plot(B0005_df_Cap['test_id'],B0005_df_Cap['SOHC'])\n",
        "plt.plot(B0007_df_Cap['test_id'],B0007_df_Cap['SOHC'])\n",
        "plt.plot(B0018_df_Cap['test_id'],B0018_df_Cap['SOHC'])\n",
        "plt.xlabel('Cycles')\n",
        "plt.ylabel('SOHC')\n",
        "plt.legend(['B0006', 'B0005', 'B0007', 'B0018'])\n",
        "plt.show()\n"
      ]
    },
    {
      "cell_type": "code",
      "execution_count": null,
      "id": "9bc6e93f-3db5-466b-aca9-dee7d993a721",
      "metadata": {
        "id": "9bc6e93f-3db5-466b-aca9-dee7d993a721"
      },
      "outputs": [],
      "source": []
    },
    {
      "cell_type": "code",
      "execution_count": null,
      "id": "c030e663-c92d-41c1-b318-5a4f573e03da",
      "metadata": {
        "id": "c030e663-c92d-41c1-b318-5a4f573e03da"
      },
      "outputs": [],
      "source": [
        "def ext_SOHC_and_Plot (df):\n",
        "    Num_batteries = df['battery_id'].value_counts().count()\n",
        "    Num_batteries_list = df['battery_id'].drop_duplicates()\n",
        "\n",
        "    for i in range(Num_batteries):\n",
        "        df_temp = df[['type','battery_id','test_id','uid','filename','Capacity']].loc[(df['battery_id']== Num_batteries_list.iloc[i])]\n",
        "        # print(df_temp.head(3))\n",
        "        df_temp_Cap = df_temp.loc[df_temp['Capacity'].notnull()]\n",
        "        # print(df_temp_Cap.head(3))\n",
        "        # print(df_temp_Cap['Capacity'].count())\n",
        "        denominator = float(df_temp_Cap['Capacity'].iloc[0])\n",
        "        # if not df_temp_Cap.empty:\n",
        "        df_temp_Cap['SOHC'] = df_temp_Cap['Capacity'].astype(float)*100\n",
        "        # df_temp['Capacity'][0]\n",
        "        # print(float(df_temp_Cap['Capacity'].iloc[0]))\n",
        "        # print(denominator)\n",
        "        print(df_temp_Cap.head(3))\n",
        "\n",
        "\n",
        ""
      ]
    },
    {
      "cell_type": "code",
      "execution_count": null,
      "id": "06ee4230-8443-4a1c-a88e-39758cc2954a",
      "metadata": {
        "id": "06ee4230-8443-4a1c-a88e-39758cc2954a",
        "outputId": "ec98316b-ab00-48de-cf77-04ef55ac9e96"
      },
      "outputs": [
        {
          "name": "stdout",
          "output_type": "stream",
          "text": [
            "        type battery_id  test_id  uid   filename            Capacity  \\\n",
            "0  discharge      B0047        0    1  00001.csv  1.6743047446975208   \n",
            "4  discharge      B0047        4    5  00005.csv  1.5243662105099023   \n",
            "6  discharge      B0047        6    7  00007.csv  1.5080762969973425   \n",
            "\n",
            "         SOHC  \n",
            "0  167.430474  \n",
            "4  152.436621  \n",
            "6  150.807630  \n",
            "          type battery_id  test_id  uid   filename            Capacity  \\\n",
            "184  discharge      B0045        0  185  00185.csv  1.0819793880779518   \n",
            "188  discharge      B0045        4  189  00189.csv         0.927952405   \n",
            "190  discharge      B0045        6  191  00191.csv         0.885193608   \n",
            "\n",
            "           SOHC  \n",
            "184  108.197939  \n",
            "188   92.795240  \n",
            "190   88.519361  \n",
            "          type battery_id  test_id  uid   filename            Capacity  \\\n",
            "368  discharge      B0048        0  369  00369.csv  1.6579955793677608   \n",
            "372  discharge      B0048        4  373  00373.csv  1.5076933476098775   \n",
            "374  discharge      B0048        6  375  00375.csv  1.4989223343608031   \n",
            "\n",
            "           SOHC  \n",
            "368  165.799558  \n",
            "372  150.769335  \n",
            "374  149.892233  \n",
            "          type battery_id  test_id  uid   filename            Capacity  \\\n",
            "552  discharge      B0046        0  553  00553.csv  1.7282392323598248   \n",
            "556  discharge      B0046        4  557  00557.csv  1.5161488467923143   \n",
            "558  discharge      B0046        6  559  00559.csv   1.503121190703977   \n",
            "\n",
            "           SOHC  \n",
            "552  172.823923  \n",
            "556  151.614885  \n",
            "558  150.312119  \n",
            "          type battery_id  test_id  uid   filename            Capacity  \\\n",
            "738  discharge      B0043        2  739  00739.csv   1.713782642126885   \n",
            "740  discharge      B0043        4  741  00741.csv  1.6955681658647108   \n",
            "742  discharge      B0043        6  743  00743.csv  1.6814906372051954   \n",
            "\n",
            "           SOHC  \n",
            "738  171.378264  \n",
            "740  169.556817  \n",
            "742  168.149064  \n",
            "           type battery_id  test_id   uid   filename            Capacity  \\\n",
            "1012  discharge      B0032        1  1013  01013.csv  1.7048641073512139   \n",
            "1014  discharge      B0032        3  1015  01015.csv  1.8940319526948572   \n",
            "1016  discharge      B0032        5  1017  01017.csv  1.8747686491853095   \n",
            "\n",
            "            SOHC  \n",
            "1012  170.486411  \n",
            "1014  189.403195  \n",
            "1016  187.476865  \n",
            "           type battery_id  test_id   uid   filename             Capacity  \\\n",
            "1108  discharge      B0039        0  1109  01109.csv  0.11903831859341765   \n",
            "1112  discharge      B0039        4  1113  01113.csv   0.4729861500927512   \n",
            "1114  discharge      B0039        6  1115  01115.csv  0.16280793829202067   \n",
            "\n",
            "           SOHC  \n",
            "1108  11.903832  \n",
            "1112  47.298615  \n",
            "1114  16.280794  \n",
            "           type battery_id  test_id   uid   filename            Capacity  \\\n",
            "1230  discharge      B0040        0  1231  01231.csv  0.6734628137095633   \n",
            "1234  discharge      B0040        4  1235  01235.csv  0.7913062105760345   \n",
            "1236  discharge      B0040        6  1237  01237.csv  0.7865824034601745   \n",
            "\n",
            "           SOHC  \n",
            "1230  67.346281  \n",
            "1234  79.130621  \n",
            "1236  78.658240  \n",
            "           type battery_id  test_id   uid   filename            Capacity  \\\n",
            "1353  discharge      B0029        1  1354  01354.csv   1.697507332205763   \n",
            "1355  discharge      B0029        3  1356  01356.csv   1.844701206961174   \n",
            "1357  discharge      B0029        5  1358  01358.csv  1.8254376674722927   \n",
            "\n",
            "            SOHC  \n",
            "1353  169.750733  \n",
            "1355  184.470121  \n",
            "1357  182.543767  \n",
            "           type battery_id  test_id   uid   filename            Capacity  \\\n",
            "1452  discharge      B0028        3  1453  01453.csv  1.8046847720100736   \n",
            "1454  discharge      B0028        5  1455  01455.csv  1.8047833214525881   \n",
            "1456  discharge      B0028        7  1457  01457.csv   1.797618668222458   \n",
            "\n",
            "            SOHC  \n",
            "1452  180.468477  \n",
            "1454  180.478332  \n",
            "1456  179.761867  \n",
            "           type battery_id  test_id   uid   filename            Capacity  \\\n",
            "1531  discharge      B0042        2  1532  01532.csv  1.7287126633755356   \n",
            "1533  discharge      B0042        4  1534  01534.csv  1.7314706281853145   \n",
            "1535  discharge      B0042        6  1536  01536.csv  1.7282350363146088   \n",
            "\n",
            "            SOHC  \n",
            "1531  172.871266  \n",
            "1533  173.147063  \n",
            "1535  172.823504  \n",
            "           type battery_id  test_id   uid   filename            Capacity  \\\n",
            "1804  discharge      B0034        0  1805  01805.csv  0.7459302957645664   \n",
            "1808  discharge      B0034        4  1809  01809.csv  1.6623217152845853   \n",
            "1810  discharge      B0034        6  1811  01811.csv   1.645087369694532   \n",
            "\n",
            "            SOHC  \n",
            "1804   74.593030  \n",
            "1808  166.232172  \n",
            "1810  164.508737  \n",
            "           type battery_id  test_id   uid   filename            Capacity  \\\n",
            "2290  discharge      B0038        0  2291  02291.csv  0.8980573709676724   \n",
            "2294  discharge      B0038        4  2295  02295.csv  1.1026236331914077   \n",
            "2296  discharge      B0038        6  2297  02297.csv  1.0885801879473431   \n",
            "\n",
            "            SOHC  \n",
            "2290   89.805737  \n",
            "2294  110.262363  \n",
            "2296  108.858019  \n",
            "           type battery_id  test_id   uid   filename            Capacity  \\\n",
            "2412  discharge      B0033        0  2413  02413.csv         0.068425722   \n",
            "2416  discharge      B0033        4  2417  02417.csv  0.6895699007862814   \n",
            "2418  discharge      B0033        6  2419  02419.csv  1.1610848192311252   \n",
            "\n",
            "            SOHC  \n",
            "2412    6.842572  \n",
            "2416   68.956990  \n",
            "2418  116.108482  \n",
            "           type battery_id  test_id   uid   filename            Capacity  \\\n",
            "2899  discharge      B0030        1  2900  02900.csv  1.6560706096175404   \n",
            "2901  discharge      B0030        3  2902  02902.csv  1.7815548749509116   \n",
            "2903  discharge      B0030        5  2904  02904.csv   1.761969227822918   \n",
            "\n",
            "            SOHC  \n",
            "2899  165.607061  \n",
            "2901  178.155487  \n",
            "2903  176.196923  \n",
            "           type battery_id  test_id   uid   filename              Capacity  \\\n",
            "2995  discharge      B0041        0  2996  02996.csv  0.055620243768194036   \n",
            "2998  discharge      B0041        3  2999  02999.csv           0.055697473   \n",
            "3000  discharge      B0041        5  3001  03001.csv           0.055839016   \n",
            "\n",
            "          SOHC  \n",
            "2995  5.562024  \n",
            "2998  5.569747  \n",
            "3000  5.583902  \n",
            "           type battery_id  test_id   uid   filename            Capacity  \\\n",
            "3161  discharge      B0027        3  3162  03162.csv  1.8233077742149364   \n",
            "3163  discharge      B0027        5  3164  03164.csv  1.8142384651167962   \n",
            "3165  discharge      B0027        7  3166  03166.csv  1.8128596793130867   \n",
            "\n",
            "            SOHC  \n",
            "3161  182.330777  \n",
            "3163  181.423847  \n",
            "3165  181.285968  \n",
            "           type battery_id  test_id   uid   filename            Capacity  \\\n",
            "3240  discharge      B0044        2  3241  03241.csv   1.686525555152074   \n",
            "3242  discharge      B0044        4  3243  03243.csv  1.6624606531639186   \n",
            "3244  discharge      B0044        6  3245  03245.csv  1.6534010755700512   \n",
            "\n",
            "            SOHC  \n",
            "3240  168.652556  \n",
            "3242  166.246065  \n",
            "3244  165.340108  \n",
            "           type battery_id  test_id   uid   filename            Capacity  \\\n",
            "3513  discharge      B0036        0  3514  03514.csv   1.001982588175331   \n",
            "3517  discharge      B0036        4  3518  03518.csv  1.8011007566288924   \n",
            "3519  discharge      B0036        6  3520  03520.csv  1.8044229856020628   \n",
            "\n",
            "            SOHC  \n",
            "3513  100.198259  \n",
            "3517  180.110076  \n",
            "3519  180.442299  \n",
            "           type battery_id  test_id   uid   filename            Capacity  \\\n",
            "4002  discharge      B0025        3  4003  04003.csv   1.847011162956716   \n",
            "4004  discharge      B0025        5  4005  04005.csv  1.8485654344528386   \n",
            "4006  discharge      B0025        7  4007  04007.csv   1.847111177186175   \n",
            "\n",
            "            SOHC  \n",
            "4002  184.701116  \n",
            "4004  184.856543  \n",
            "4006  184.711118  \n",
            "           type battery_id  test_id   uid   filename            Capacity  \\\n",
            "4082  discharge      B0026        3  4083  04083.csv  1.8132504303869899   \n",
            "4084  discharge      B0026        5  4085  04085.csv  1.8149760087078302   \n",
            "4086  discharge      B0026        7  4087  04087.csv  1.8135354175561993   \n",
            "\n",
            "            SOHC  \n",
            "4082  181.325043  \n",
            "4084  181.497601  \n",
            "4086  181.353542  \n",
            "           type battery_id  test_id   uid   filename            Capacity  \\\n",
            "4160  discharge      B0031        1  4161  04161.csv  1.6666751942525773   \n",
            "4162  discharge      B0031        3  4163  04163.csv  1.8328583629543174   \n",
            "4164  discharge      B0031        5  4165  04165.csv  1.8139835002945137   \n",
            "\n",
            "            SOHC  \n",
            "4160  166.667519  \n",
            "4162  183.285836  \n",
            "4164  181.398350  \n",
            "           type battery_id  test_id   uid   filename            Capacity  \\\n",
            "4256  discharge      B0049        0  4257  04257.csv  0.8583727215167135   \n",
            "4260  discharge      B0049        4  4261  04261.csv  1.4209057149417375   \n",
            "4262  discharge      B0049        6  4263  04263.csv   1.372852133389263   \n",
            "\n",
            "            SOHC  \n",
            "4256   85.837272  \n",
            "4260  142.090571  \n",
            "4262  137.285213  \n"
          ]
        },
        {
          "name": "stderr",
          "output_type": "stream",
          "text": [
            "/var/folders/3p/hbpqj3zd5jjb2zgpw9txfmkc0000gn/T/ipykernel_10898/1117782721.py:13: SettingWithCopyWarning: \n",
            "A value is trying to be set on a copy of a slice from a DataFrame.\n",
            "Try using .loc[row_indexer,col_indexer] = value instead\n",
            "\n",
            "See the caveats in the documentation: https://pandas.pydata.org/pandas-docs/stable/user_guide/indexing.html#returning-a-view-versus-a-copy\n",
            "  df_temp_Cap['SOHC'] = df_temp_Cap['Capacity'].astype(float)*100\n",
            "/var/folders/3p/hbpqj3zd5jjb2zgpw9txfmkc0000gn/T/ipykernel_10898/1117782721.py:13: SettingWithCopyWarning: \n",
            "A value is trying to be set on a copy of a slice from a DataFrame.\n",
            "Try using .loc[row_indexer,col_indexer] = value instead\n",
            "\n",
            "See the caveats in the documentation: https://pandas.pydata.org/pandas-docs/stable/user_guide/indexing.html#returning-a-view-versus-a-copy\n",
            "  df_temp_Cap['SOHC'] = df_temp_Cap['Capacity'].astype(float)*100\n",
            "/var/folders/3p/hbpqj3zd5jjb2zgpw9txfmkc0000gn/T/ipykernel_10898/1117782721.py:13: SettingWithCopyWarning: \n",
            "A value is trying to be set on a copy of a slice from a DataFrame.\n",
            "Try using .loc[row_indexer,col_indexer] = value instead\n",
            "\n",
            "See the caveats in the documentation: https://pandas.pydata.org/pandas-docs/stable/user_guide/indexing.html#returning-a-view-versus-a-copy\n",
            "  df_temp_Cap['SOHC'] = df_temp_Cap['Capacity'].astype(float)*100\n",
            "/var/folders/3p/hbpqj3zd5jjb2zgpw9txfmkc0000gn/T/ipykernel_10898/1117782721.py:13: SettingWithCopyWarning: \n",
            "A value is trying to be set on a copy of a slice from a DataFrame.\n",
            "Try using .loc[row_indexer,col_indexer] = value instead\n",
            "\n",
            "See the caveats in the documentation: https://pandas.pydata.org/pandas-docs/stable/user_guide/indexing.html#returning-a-view-versus-a-copy\n",
            "  df_temp_Cap['SOHC'] = df_temp_Cap['Capacity'].astype(float)*100\n",
            "/var/folders/3p/hbpqj3zd5jjb2zgpw9txfmkc0000gn/T/ipykernel_10898/1117782721.py:13: SettingWithCopyWarning: \n",
            "A value is trying to be set on a copy of a slice from a DataFrame.\n",
            "Try using .loc[row_indexer,col_indexer] = value instead\n",
            "\n",
            "See the caveats in the documentation: https://pandas.pydata.org/pandas-docs/stable/user_guide/indexing.html#returning-a-view-versus-a-copy\n",
            "  df_temp_Cap['SOHC'] = df_temp_Cap['Capacity'].astype(float)*100\n",
            "/var/folders/3p/hbpqj3zd5jjb2zgpw9txfmkc0000gn/T/ipykernel_10898/1117782721.py:13: SettingWithCopyWarning: \n",
            "A value is trying to be set on a copy of a slice from a DataFrame.\n",
            "Try using .loc[row_indexer,col_indexer] = value instead\n",
            "\n",
            "See the caveats in the documentation: https://pandas.pydata.org/pandas-docs/stable/user_guide/indexing.html#returning-a-view-versus-a-copy\n",
            "  df_temp_Cap['SOHC'] = df_temp_Cap['Capacity'].astype(float)*100\n",
            "/var/folders/3p/hbpqj3zd5jjb2zgpw9txfmkc0000gn/T/ipykernel_10898/1117782721.py:13: SettingWithCopyWarning: \n",
            "A value is trying to be set on a copy of a slice from a DataFrame.\n",
            "Try using .loc[row_indexer,col_indexer] = value instead\n",
            "\n",
            "See the caveats in the documentation: https://pandas.pydata.org/pandas-docs/stable/user_guide/indexing.html#returning-a-view-versus-a-copy\n",
            "  df_temp_Cap['SOHC'] = df_temp_Cap['Capacity'].astype(float)*100\n",
            "/var/folders/3p/hbpqj3zd5jjb2zgpw9txfmkc0000gn/T/ipykernel_10898/1117782721.py:13: SettingWithCopyWarning: \n",
            "A value is trying to be set on a copy of a slice from a DataFrame.\n",
            "Try using .loc[row_indexer,col_indexer] = value instead\n",
            "\n",
            "See the caveats in the documentation: https://pandas.pydata.org/pandas-docs/stable/user_guide/indexing.html#returning-a-view-versus-a-copy\n",
            "  df_temp_Cap['SOHC'] = df_temp_Cap['Capacity'].astype(float)*100\n",
            "/var/folders/3p/hbpqj3zd5jjb2zgpw9txfmkc0000gn/T/ipykernel_10898/1117782721.py:13: SettingWithCopyWarning: \n",
            "A value is trying to be set on a copy of a slice from a DataFrame.\n",
            "Try using .loc[row_indexer,col_indexer] = value instead\n",
            "\n",
            "See the caveats in the documentation: https://pandas.pydata.org/pandas-docs/stable/user_guide/indexing.html#returning-a-view-versus-a-copy\n",
            "  df_temp_Cap['SOHC'] = df_temp_Cap['Capacity'].astype(float)*100\n",
            "/var/folders/3p/hbpqj3zd5jjb2zgpw9txfmkc0000gn/T/ipykernel_10898/1117782721.py:13: SettingWithCopyWarning: \n",
            "A value is trying to be set on a copy of a slice from a DataFrame.\n",
            "Try using .loc[row_indexer,col_indexer] = value instead\n",
            "\n",
            "See the caveats in the documentation: https://pandas.pydata.org/pandas-docs/stable/user_guide/indexing.html#returning-a-view-versus-a-copy\n",
            "  df_temp_Cap['SOHC'] = df_temp_Cap['Capacity'].astype(float)*100\n",
            "/var/folders/3p/hbpqj3zd5jjb2zgpw9txfmkc0000gn/T/ipykernel_10898/1117782721.py:13: SettingWithCopyWarning: \n",
            "A value is trying to be set on a copy of a slice from a DataFrame.\n",
            "Try using .loc[row_indexer,col_indexer] = value instead\n",
            "\n",
            "See the caveats in the documentation: https://pandas.pydata.org/pandas-docs/stable/user_guide/indexing.html#returning-a-view-versus-a-copy\n",
            "  df_temp_Cap['SOHC'] = df_temp_Cap['Capacity'].astype(float)*100\n",
            "/var/folders/3p/hbpqj3zd5jjb2zgpw9txfmkc0000gn/T/ipykernel_10898/1117782721.py:13: SettingWithCopyWarning: \n",
            "A value is trying to be set on a copy of a slice from a DataFrame.\n",
            "Try using .loc[row_indexer,col_indexer] = value instead\n",
            "\n",
            "See the caveats in the documentation: https://pandas.pydata.org/pandas-docs/stable/user_guide/indexing.html#returning-a-view-versus-a-copy\n",
            "  df_temp_Cap['SOHC'] = df_temp_Cap['Capacity'].astype(float)*100\n",
            "/var/folders/3p/hbpqj3zd5jjb2zgpw9txfmkc0000gn/T/ipykernel_10898/1117782721.py:13: SettingWithCopyWarning: \n",
            "A value is trying to be set on a copy of a slice from a DataFrame.\n",
            "Try using .loc[row_indexer,col_indexer] = value instead\n",
            "\n",
            "See the caveats in the documentation: https://pandas.pydata.org/pandas-docs/stable/user_guide/indexing.html#returning-a-view-versus-a-copy\n",
            "  df_temp_Cap['SOHC'] = df_temp_Cap['Capacity'].astype(float)*100\n",
            "/var/folders/3p/hbpqj3zd5jjb2zgpw9txfmkc0000gn/T/ipykernel_10898/1117782721.py:13: SettingWithCopyWarning: \n",
            "A value is trying to be set on a copy of a slice from a DataFrame.\n",
            "Try using .loc[row_indexer,col_indexer] = value instead\n",
            "\n",
            "See the caveats in the documentation: https://pandas.pydata.org/pandas-docs/stable/user_guide/indexing.html#returning-a-view-versus-a-copy\n",
            "  df_temp_Cap['SOHC'] = df_temp_Cap['Capacity'].astype(float)*100\n",
            "/var/folders/3p/hbpqj3zd5jjb2zgpw9txfmkc0000gn/T/ipykernel_10898/1117782721.py:13: SettingWithCopyWarning: \n",
            "A value is trying to be set on a copy of a slice from a DataFrame.\n",
            "Try using .loc[row_indexer,col_indexer] = value instead\n",
            "\n",
            "See the caveats in the documentation: https://pandas.pydata.org/pandas-docs/stable/user_guide/indexing.html#returning-a-view-versus-a-copy\n",
            "  df_temp_Cap['SOHC'] = df_temp_Cap['Capacity'].astype(float)*100\n",
            "/var/folders/3p/hbpqj3zd5jjb2zgpw9txfmkc0000gn/T/ipykernel_10898/1117782721.py:13: SettingWithCopyWarning: \n",
            "A value is trying to be set on a copy of a slice from a DataFrame.\n",
            "Try using .loc[row_indexer,col_indexer] = value instead\n",
            "\n",
            "See the caveats in the documentation: https://pandas.pydata.org/pandas-docs/stable/user_guide/indexing.html#returning-a-view-versus-a-copy\n",
            "  df_temp_Cap['SOHC'] = df_temp_Cap['Capacity'].astype(float)*100\n",
            "/var/folders/3p/hbpqj3zd5jjb2zgpw9txfmkc0000gn/T/ipykernel_10898/1117782721.py:13: SettingWithCopyWarning: \n",
            "A value is trying to be set on a copy of a slice from a DataFrame.\n",
            "Try using .loc[row_indexer,col_indexer] = value instead\n",
            "\n",
            "See the caveats in the documentation: https://pandas.pydata.org/pandas-docs/stable/user_guide/indexing.html#returning-a-view-versus-a-copy\n",
            "  df_temp_Cap['SOHC'] = df_temp_Cap['Capacity'].astype(float)*100\n",
            "/var/folders/3p/hbpqj3zd5jjb2zgpw9txfmkc0000gn/T/ipykernel_10898/1117782721.py:13: SettingWithCopyWarning: \n",
            "A value is trying to be set on a copy of a slice from a DataFrame.\n",
            "Try using .loc[row_indexer,col_indexer] = value instead\n",
            "\n",
            "See the caveats in the documentation: https://pandas.pydata.org/pandas-docs/stable/user_guide/indexing.html#returning-a-view-versus-a-copy\n",
            "  df_temp_Cap['SOHC'] = df_temp_Cap['Capacity'].astype(float)*100\n",
            "/var/folders/3p/hbpqj3zd5jjb2zgpw9txfmkc0000gn/T/ipykernel_10898/1117782721.py:13: SettingWithCopyWarning: \n",
            "A value is trying to be set on a copy of a slice from a DataFrame.\n",
            "Try using .loc[row_indexer,col_indexer] = value instead\n",
            "\n",
            "See the caveats in the documentation: https://pandas.pydata.org/pandas-docs/stable/user_guide/indexing.html#returning-a-view-versus-a-copy\n",
            "  df_temp_Cap['SOHC'] = df_temp_Cap['Capacity'].astype(float)*100\n",
            "/var/folders/3p/hbpqj3zd5jjb2zgpw9txfmkc0000gn/T/ipykernel_10898/1117782721.py:13: SettingWithCopyWarning: \n",
            "A value is trying to be set on a copy of a slice from a DataFrame.\n",
            "Try using .loc[row_indexer,col_indexer] = value instead\n",
            "\n",
            "See the caveats in the documentation: https://pandas.pydata.org/pandas-docs/stable/user_guide/indexing.html#returning-a-view-versus-a-copy\n",
            "  df_temp_Cap['SOHC'] = df_temp_Cap['Capacity'].astype(float)*100\n",
            "/var/folders/3p/hbpqj3zd5jjb2zgpw9txfmkc0000gn/T/ipykernel_10898/1117782721.py:13: SettingWithCopyWarning: \n",
            "A value is trying to be set on a copy of a slice from a DataFrame.\n",
            "Try using .loc[row_indexer,col_indexer] = value instead\n",
            "\n",
            "See the caveats in the documentation: https://pandas.pydata.org/pandas-docs/stable/user_guide/indexing.html#returning-a-view-versus-a-copy\n",
            "  df_temp_Cap['SOHC'] = df_temp_Cap['Capacity'].astype(float)*100\n",
            "/var/folders/3p/hbpqj3zd5jjb2zgpw9txfmkc0000gn/T/ipykernel_10898/1117782721.py:13: SettingWithCopyWarning: \n",
            "A value is trying to be set on a copy of a slice from a DataFrame.\n",
            "Try using .loc[row_indexer,col_indexer] = value instead\n",
            "\n",
            "See the caveats in the documentation: https://pandas.pydata.org/pandas-docs/stable/user_guide/indexing.html#returning-a-view-versus-a-copy\n",
            "  df_temp_Cap['SOHC'] = df_temp_Cap['Capacity'].astype(float)*100\n",
            "/var/folders/3p/hbpqj3zd5jjb2zgpw9txfmkc0000gn/T/ipykernel_10898/1117782721.py:13: SettingWithCopyWarning: \n",
            "A value is trying to be set on a copy of a slice from a DataFrame.\n",
            "Try using .loc[row_indexer,col_indexer] = value instead\n",
            "\n",
            "See the caveats in the documentation: https://pandas.pydata.org/pandas-docs/stable/user_guide/indexing.html#returning-a-view-versus-a-copy\n",
            "  df_temp_Cap['SOHC'] = df_temp_Cap['Capacity'].astype(float)*100\n"
          ]
        },
        {
          "ename": "ValueError",
          "evalue": "could not convert string to float: '[]'",
          "output_type": "error",
          "traceback": [
            "\u001b[0;31m---------------------------------------------------------------------------\u001b[0m",
            "\u001b[0;31mValueError\u001b[0m                                Traceback (most recent call last)",
            "Cell \u001b[0;32mIn[227], line 1\u001b[0m\n\u001b[0;32m----> 1\u001b[0m \u001b[43mext_SOHC_and_Plot\u001b[49m\u001b[43m(\u001b[49m\u001b[43mdf\u001b[49m\u001b[43m)\u001b[49m\n",
            "Cell \u001b[0;32mIn[226], line 13\u001b[0m, in \u001b[0;36mext_SOHC_and_Plot\u001b[0;34m(df)\u001b[0m\n\u001b[1;32m     11\u001b[0m denominator \u001b[38;5;241m=\u001b[39m \u001b[38;5;28mfloat\u001b[39m(df_temp_Cap[\u001b[38;5;124m'\u001b[39m\u001b[38;5;124mCapacity\u001b[39m\u001b[38;5;124m'\u001b[39m]\u001b[38;5;241m.\u001b[39miloc[\u001b[38;5;241m0\u001b[39m])\n\u001b[1;32m     12\u001b[0m \u001b[38;5;66;03m# if not df_temp_Cap.empty:\u001b[39;00m\n\u001b[0;32m---> 13\u001b[0m df_temp_Cap[\u001b[38;5;124m'\u001b[39m\u001b[38;5;124mSOHC\u001b[39m\u001b[38;5;124m'\u001b[39m] \u001b[38;5;241m=\u001b[39m \u001b[43mdf_temp_Cap\u001b[49m\u001b[43m[\u001b[49m\u001b[38;5;124;43m'\u001b[39;49m\u001b[38;5;124;43mCapacity\u001b[39;49m\u001b[38;5;124;43m'\u001b[39;49m\u001b[43m]\u001b[49m\u001b[38;5;241;43m.\u001b[39;49m\u001b[43mastype\u001b[49m\u001b[43m(\u001b[49m\u001b[38;5;28;43mfloat\u001b[39;49m\u001b[43m)\u001b[49m\u001b[38;5;241m*\u001b[39m\u001b[38;5;241m100\u001b[39m\n\u001b[1;32m     14\u001b[0m \u001b[38;5;66;03m# df_temp['Capacity'][0]\u001b[39;00m\n\u001b[1;32m     15\u001b[0m \u001b[38;5;66;03m# print(float(df_temp_Cap['Capacity'].iloc[0]))\u001b[39;00m\n\u001b[1;32m     16\u001b[0m \u001b[38;5;66;03m# print(denominator)\u001b[39;00m\n\u001b[1;32m     17\u001b[0m \u001b[38;5;28mprint\u001b[39m(df_temp_Cap\u001b[38;5;241m.\u001b[39mhead(\u001b[38;5;241m3\u001b[39m))\n",
            "File \u001b[0;32m~/Desktop/my_ai_ml_env/lib/python3.9/site-packages/pandas/core/generic.py:6640\u001b[0m, in \u001b[0;36mNDFrame.astype\u001b[0;34m(self, dtype, copy, errors)\u001b[0m\n\u001b[1;32m   6634\u001b[0m     results \u001b[38;5;241m=\u001b[39m [\n\u001b[1;32m   6635\u001b[0m         ser\u001b[38;5;241m.\u001b[39mastype(dtype, copy\u001b[38;5;241m=\u001b[39mcopy, errors\u001b[38;5;241m=\u001b[39merrors) \u001b[38;5;28;01mfor\u001b[39;00m _, ser \u001b[38;5;129;01min\u001b[39;00m \u001b[38;5;28mself\u001b[39m\u001b[38;5;241m.\u001b[39mitems()\n\u001b[1;32m   6636\u001b[0m     ]\n\u001b[1;32m   6638\u001b[0m \u001b[38;5;28;01melse\u001b[39;00m:\n\u001b[1;32m   6639\u001b[0m     \u001b[38;5;66;03m# else, only a single dtype is given\u001b[39;00m\n\u001b[0;32m-> 6640\u001b[0m     new_data \u001b[38;5;241m=\u001b[39m \u001b[38;5;28;43mself\u001b[39;49m\u001b[38;5;241;43m.\u001b[39;49m\u001b[43m_mgr\u001b[49m\u001b[38;5;241;43m.\u001b[39;49m\u001b[43mastype\u001b[49m\u001b[43m(\u001b[49m\u001b[43mdtype\u001b[49m\u001b[38;5;241;43m=\u001b[39;49m\u001b[43mdtype\u001b[49m\u001b[43m,\u001b[49m\u001b[43m \u001b[49m\u001b[43mcopy\u001b[49m\u001b[38;5;241;43m=\u001b[39;49m\u001b[43mcopy\u001b[49m\u001b[43m,\u001b[49m\u001b[43m \u001b[49m\u001b[43merrors\u001b[49m\u001b[38;5;241;43m=\u001b[39;49m\u001b[43merrors\u001b[49m\u001b[43m)\u001b[49m\n\u001b[1;32m   6641\u001b[0m     res \u001b[38;5;241m=\u001b[39m \u001b[38;5;28mself\u001b[39m\u001b[38;5;241m.\u001b[39m_constructor_from_mgr(new_data, axes\u001b[38;5;241m=\u001b[39mnew_data\u001b[38;5;241m.\u001b[39maxes)\n\u001b[1;32m   6642\u001b[0m     \u001b[38;5;28;01mreturn\u001b[39;00m res\u001b[38;5;241m.\u001b[39m__finalize__(\u001b[38;5;28mself\u001b[39m, method\u001b[38;5;241m=\u001b[39m\u001b[38;5;124m\"\u001b[39m\u001b[38;5;124mastype\u001b[39m\u001b[38;5;124m\"\u001b[39m)\n",
            "File \u001b[0;32m~/Desktop/my_ai_ml_env/lib/python3.9/site-packages/pandas/core/internals/managers.py:430\u001b[0m, in \u001b[0;36mBaseBlockManager.astype\u001b[0;34m(self, dtype, copy, errors)\u001b[0m\n\u001b[1;32m    427\u001b[0m \u001b[38;5;28;01melif\u001b[39;00m using_copy_on_write():\n\u001b[1;32m    428\u001b[0m     copy \u001b[38;5;241m=\u001b[39m \u001b[38;5;28;01mFalse\u001b[39;00m\n\u001b[0;32m--> 430\u001b[0m \u001b[38;5;28;01mreturn\u001b[39;00m \u001b[38;5;28;43mself\u001b[39;49m\u001b[38;5;241;43m.\u001b[39;49m\u001b[43mapply\u001b[49m\u001b[43m(\u001b[49m\n\u001b[1;32m    431\u001b[0m \u001b[43m    \u001b[49m\u001b[38;5;124;43m\"\u001b[39;49m\u001b[38;5;124;43mastype\u001b[39;49m\u001b[38;5;124;43m\"\u001b[39;49m\u001b[43m,\u001b[49m\n\u001b[1;32m    432\u001b[0m \u001b[43m    \u001b[49m\u001b[43mdtype\u001b[49m\u001b[38;5;241;43m=\u001b[39;49m\u001b[43mdtype\u001b[49m\u001b[43m,\u001b[49m\n\u001b[1;32m    433\u001b[0m \u001b[43m    \u001b[49m\u001b[43mcopy\u001b[49m\u001b[38;5;241;43m=\u001b[39;49m\u001b[43mcopy\u001b[49m\u001b[43m,\u001b[49m\n\u001b[1;32m    434\u001b[0m \u001b[43m    \u001b[49m\u001b[43merrors\u001b[49m\u001b[38;5;241;43m=\u001b[39;49m\u001b[43merrors\u001b[49m\u001b[43m,\u001b[49m\n\u001b[1;32m    435\u001b[0m \u001b[43m    \u001b[49m\u001b[43musing_cow\u001b[49m\u001b[38;5;241;43m=\u001b[39;49m\u001b[43musing_copy_on_write\u001b[49m\u001b[43m(\u001b[49m\u001b[43m)\u001b[49m\u001b[43m,\u001b[49m\n\u001b[1;32m    436\u001b[0m \u001b[43m\u001b[49m\u001b[43m)\u001b[49m\n",
            "File \u001b[0;32m~/Desktop/my_ai_ml_env/lib/python3.9/site-packages/pandas/core/internals/managers.py:363\u001b[0m, in \u001b[0;36mBaseBlockManager.apply\u001b[0;34m(self, f, align_keys, **kwargs)\u001b[0m\n\u001b[1;32m    361\u001b[0m         applied \u001b[38;5;241m=\u001b[39m b\u001b[38;5;241m.\u001b[39mapply(f, \u001b[38;5;241m*\u001b[39m\u001b[38;5;241m*\u001b[39mkwargs)\n\u001b[1;32m    362\u001b[0m     \u001b[38;5;28;01melse\u001b[39;00m:\n\u001b[0;32m--> 363\u001b[0m         applied \u001b[38;5;241m=\u001b[39m \u001b[38;5;28;43mgetattr\u001b[39;49m\u001b[43m(\u001b[49m\u001b[43mb\u001b[49m\u001b[43m,\u001b[49m\u001b[43m \u001b[49m\u001b[43mf\u001b[49m\u001b[43m)\u001b[49m\u001b[43m(\u001b[49m\u001b[38;5;241;43m*\u001b[39;49m\u001b[38;5;241;43m*\u001b[39;49m\u001b[43mkwargs\u001b[49m\u001b[43m)\u001b[49m\n\u001b[1;32m    364\u001b[0m     result_blocks \u001b[38;5;241m=\u001b[39m extend_blocks(applied, result_blocks)\n\u001b[1;32m    366\u001b[0m out \u001b[38;5;241m=\u001b[39m \u001b[38;5;28mtype\u001b[39m(\u001b[38;5;28mself\u001b[39m)\u001b[38;5;241m.\u001b[39mfrom_blocks(result_blocks, \u001b[38;5;28mself\u001b[39m\u001b[38;5;241m.\u001b[39maxes)\n",
            "File \u001b[0;32m~/Desktop/my_ai_ml_env/lib/python3.9/site-packages/pandas/core/internals/blocks.py:758\u001b[0m, in \u001b[0;36mBlock.astype\u001b[0;34m(self, dtype, copy, errors, using_cow, squeeze)\u001b[0m\n\u001b[1;32m    755\u001b[0m         \u001b[38;5;28;01mraise\u001b[39;00m \u001b[38;5;167;01mValueError\u001b[39;00m(\u001b[38;5;124m\"\u001b[39m\u001b[38;5;124mCan not squeeze with more than one column.\u001b[39m\u001b[38;5;124m\"\u001b[39m)\n\u001b[1;32m    756\u001b[0m     values \u001b[38;5;241m=\u001b[39m values[\u001b[38;5;241m0\u001b[39m, :]  \u001b[38;5;66;03m# type: ignore[call-overload]\u001b[39;00m\n\u001b[0;32m--> 758\u001b[0m new_values \u001b[38;5;241m=\u001b[39m \u001b[43mastype_array_safe\u001b[49m\u001b[43m(\u001b[49m\u001b[43mvalues\u001b[49m\u001b[43m,\u001b[49m\u001b[43m \u001b[49m\u001b[43mdtype\u001b[49m\u001b[43m,\u001b[49m\u001b[43m \u001b[49m\u001b[43mcopy\u001b[49m\u001b[38;5;241;43m=\u001b[39;49m\u001b[43mcopy\u001b[49m\u001b[43m,\u001b[49m\u001b[43m \u001b[49m\u001b[43merrors\u001b[49m\u001b[38;5;241;43m=\u001b[39;49m\u001b[43merrors\u001b[49m\u001b[43m)\u001b[49m\n\u001b[1;32m    760\u001b[0m new_values \u001b[38;5;241m=\u001b[39m maybe_coerce_values(new_values)\n\u001b[1;32m    762\u001b[0m refs \u001b[38;5;241m=\u001b[39m \u001b[38;5;28;01mNone\u001b[39;00m\n",
            "File \u001b[0;32m~/Desktop/my_ai_ml_env/lib/python3.9/site-packages/pandas/core/dtypes/astype.py:237\u001b[0m, in \u001b[0;36mastype_array_safe\u001b[0;34m(values, dtype, copy, errors)\u001b[0m\n\u001b[1;32m    234\u001b[0m     dtype \u001b[38;5;241m=\u001b[39m dtype\u001b[38;5;241m.\u001b[39mnumpy_dtype\n\u001b[1;32m    236\u001b[0m \u001b[38;5;28;01mtry\u001b[39;00m:\n\u001b[0;32m--> 237\u001b[0m     new_values \u001b[38;5;241m=\u001b[39m \u001b[43mastype_array\u001b[49m\u001b[43m(\u001b[49m\u001b[43mvalues\u001b[49m\u001b[43m,\u001b[49m\u001b[43m \u001b[49m\u001b[43mdtype\u001b[49m\u001b[43m,\u001b[49m\u001b[43m \u001b[49m\u001b[43mcopy\u001b[49m\u001b[38;5;241;43m=\u001b[39;49m\u001b[43mcopy\u001b[49m\u001b[43m)\u001b[49m\n\u001b[1;32m    238\u001b[0m \u001b[38;5;28;01mexcept\u001b[39;00m (\u001b[38;5;167;01mValueError\u001b[39;00m, \u001b[38;5;167;01mTypeError\u001b[39;00m):\n\u001b[1;32m    239\u001b[0m     \u001b[38;5;66;03m# e.g. _astype_nansafe can fail on object-dtype of strings\u001b[39;00m\n\u001b[1;32m    240\u001b[0m     \u001b[38;5;66;03m#  trying to convert to float\u001b[39;00m\n\u001b[1;32m    241\u001b[0m     \u001b[38;5;28;01mif\u001b[39;00m errors \u001b[38;5;241m==\u001b[39m \u001b[38;5;124m\"\u001b[39m\u001b[38;5;124mignore\u001b[39m\u001b[38;5;124m\"\u001b[39m:\n",
            "File \u001b[0;32m~/Desktop/my_ai_ml_env/lib/python3.9/site-packages/pandas/core/dtypes/astype.py:182\u001b[0m, in \u001b[0;36mastype_array\u001b[0;34m(values, dtype, copy)\u001b[0m\n\u001b[1;32m    179\u001b[0m     values \u001b[38;5;241m=\u001b[39m values\u001b[38;5;241m.\u001b[39mastype(dtype, copy\u001b[38;5;241m=\u001b[39mcopy)\n\u001b[1;32m    181\u001b[0m \u001b[38;5;28;01melse\u001b[39;00m:\n\u001b[0;32m--> 182\u001b[0m     values \u001b[38;5;241m=\u001b[39m \u001b[43m_astype_nansafe\u001b[49m\u001b[43m(\u001b[49m\u001b[43mvalues\u001b[49m\u001b[43m,\u001b[49m\u001b[43m \u001b[49m\u001b[43mdtype\u001b[49m\u001b[43m,\u001b[49m\u001b[43m \u001b[49m\u001b[43mcopy\u001b[49m\u001b[38;5;241;43m=\u001b[39;49m\u001b[43mcopy\u001b[49m\u001b[43m)\u001b[49m\n\u001b[1;32m    184\u001b[0m \u001b[38;5;66;03m# in pandas we don't store numpy str dtypes, so convert to object\u001b[39;00m\n\u001b[1;32m    185\u001b[0m \u001b[38;5;28;01mif\u001b[39;00m \u001b[38;5;28misinstance\u001b[39m(dtype, np\u001b[38;5;241m.\u001b[39mdtype) \u001b[38;5;129;01mand\u001b[39;00m \u001b[38;5;28missubclass\u001b[39m(values\u001b[38;5;241m.\u001b[39mdtype\u001b[38;5;241m.\u001b[39mtype, \u001b[38;5;28mstr\u001b[39m):\n",
            "File \u001b[0;32m~/Desktop/my_ai_ml_env/lib/python3.9/site-packages/pandas/core/dtypes/astype.py:133\u001b[0m, in \u001b[0;36m_astype_nansafe\u001b[0;34m(arr, dtype, copy, skipna)\u001b[0m\n\u001b[1;32m    129\u001b[0m     \u001b[38;5;28;01mraise\u001b[39;00m \u001b[38;5;167;01mValueError\u001b[39;00m(msg)\n\u001b[1;32m    131\u001b[0m \u001b[38;5;28;01mif\u001b[39;00m copy \u001b[38;5;129;01mor\u001b[39;00m arr\u001b[38;5;241m.\u001b[39mdtype \u001b[38;5;241m==\u001b[39m \u001b[38;5;28mobject\u001b[39m \u001b[38;5;129;01mor\u001b[39;00m dtype \u001b[38;5;241m==\u001b[39m \u001b[38;5;28mobject\u001b[39m:\n\u001b[1;32m    132\u001b[0m     \u001b[38;5;66;03m# Explicit copy, or required since NumPy can't view from / to object.\u001b[39;00m\n\u001b[0;32m--> 133\u001b[0m     \u001b[38;5;28;01mreturn\u001b[39;00m \u001b[43marr\u001b[49m\u001b[38;5;241;43m.\u001b[39;49m\u001b[43mastype\u001b[49m\u001b[43m(\u001b[49m\u001b[43mdtype\u001b[49m\u001b[43m,\u001b[49m\u001b[43m \u001b[49m\u001b[43mcopy\u001b[49m\u001b[38;5;241;43m=\u001b[39;49m\u001b[38;5;28;43;01mTrue\u001b[39;49;00m\u001b[43m)\u001b[49m\n\u001b[1;32m    135\u001b[0m \u001b[38;5;28;01mreturn\u001b[39;00m arr\u001b[38;5;241m.\u001b[39mastype(dtype, copy\u001b[38;5;241m=\u001b[39mcopy)\n",
            "\u001b[0;31mValueError\u001b[0m: could not convert string to float: '[]'"
          ]
        }
      ],
      "source": [
        "ext_SOHC_and_Plot(df)"
      ]
    },
    {
      "cell_type": "code",
      "execution_count": null,
      "id": "b76919ec-f29d-4477-83e5-164f18ad980f",
      "metadata": {
        "id": "b76919ec-f29d-4477-83e5-164f18ad980f",
        "outputId": "a4285ab3-5d47-4f4d-82af-9e81c887fa15"
      },
      "outputs": [
        {
          "data": {
            "text/plain": [
              "'B0045'"
            ]
          },
          "execution_count": 104,
          "metadata": {},
          "output_type": "execute_result"
        }
      ],
      "source": [
        "Num_batteries_list.iloc[1]"
      ]
    },
    {
      "cell_type": "code",
      "execution_count": null,
      "id": "f5c3fe78-3efc-4dd8-a10c-c63e36e060f5",
      "metadata": {
        "id": "f5c3fe78-3efc-4dd8-a10c-c63e36e060f5",
        "outputId": "e2b04eec-0838-4709-a47f-7cfe902358b4"
      },
      "outputs": [
        {
          "name": "stdout",
          "output_type": "stream",
          "text": [
            "34\n"
          ]
        }
      ],
      "source": [
        "Num_batteries = df['battery_id'].value_counts().count()\n",
        "print(Num_batteries)\n"
      ]
    },
    {
      "cell_type": "code",
      "execution_count": null,
      "id": "6711b146-7586-4847-abba-561e05096865",
      "metadata": {
        "id": "6711b146-7586-4847-abba-561e05096865",
        "outputId": "c6d62b36-0d4d-477c-9501-aa834321073d"
      },
      "outputs": [
        {
          "name": "stdout",
          "output_type": "stream",
          "text": [
            "<class 'str'>\n",
            "B0047\n"
          ]
        }
      ],
      "source": [
        "Num_batteries_list = df['battery_id'].drop_duplicates()\n",
        "print(type(Num_batteries_list.iloc[0]))\n",
        "print(Num_batteries_list.iloc[0])"
      ]
    },
    {
      "cell_type": "code",
      "execution_count": null,
      "id": "7c4cc650-543b-46a3-802c-6787b033483b",
      "metadata": {
        "id": "7c4cc650-543b-46a3-802c-6787b033483b"
      },
      "outputs": [],
      "source": []
    }
  ],
  "metadata": {
    "kernelspec": {
      "display_name": "Python 3 (ipykernel)",
      "language": "python",
      "name": "python3"
    },
    "language_info": {
      "codemirror_mode": {
        "name": "ipython",
        "version": 3
      },
      "file_extension": ".py",
      "mimetype": "text/x-python",
      "name": "python",
      "nbconvert_exporter": "python",
      "pygments_lexer": "ipython3",
      "version": "3.9.6"
    },
    "colab": {
      "provenance": []
    }
  },
  "nbformat": 4,
  "nbformat_minor": 5
}